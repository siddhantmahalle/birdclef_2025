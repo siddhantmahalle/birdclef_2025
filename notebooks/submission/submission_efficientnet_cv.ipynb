{
 "cells": [
  {
   "metadata": {},
   "cell_type": "markdown",
   "source": "# BirdClef+ 2025 Submission Baseline",
   "id": "80ac1c8eaf990b3d"
  },
  {
   "metadata": {},
   "cell_type": "markdown",
   "source": "## Import libraries",
   "id": "8d6b295ceb77ff75"
  },
  {
   "metadata": {
    "ExecuteTime": {
     "end_time": "2025-03-27T17:11:16.943011Z",
     "start_time": "2025-03-27T17:11:11.295437Z"
    }
   },
   "cell_type": "code",
   "source": [
    "import configparser\n",
    "import os\n",
    "import warnings\n",
    "from pathlib import Path\n",
    "import time\n",
    "from tqdm import tqdm\n",
    "import concurrent.futures\n",
    "\n",
    "import numpy as np\n",
    "import pandas as pd\n",
    "import timm\n",
    "import torch\n",
    "import torchaudio\n",
    "import torchaudio.transforms as at\n",
    "from torch.utils.data import Dataset, DataLoader\n",
    "\n",
    "import pytorch_lightning as pl\n",
    "\n",
    "warnings.filterwarnings('ignore')"
   ],
   "id": "a62daeb40efed21c",
   "outputs": [],
   "execution_count": 1
  },
  {
   "metadata": {},
   "cell_type": "markdown",
   "source": "## Config",
   "id": "ff03b0bd5d318bfc"
  },
  {
   "metadata": {
    "ExecuteTime": {
     "end_time": "2025-03-27T17:11:16.951305Z",
     "start_time": "2025-03-27T17:11:16.948404Z"
    }
   },
   "cell_type": "code",
   "source": "config = configparser.ConfigParser()",
   "id": "45c13d1b98814c90",
   "outputs": [],
   "execution_count": 2
  },
  {
   "metadata": {
    "ExecuteTime": {
     "end_time": "2025-03-27T17:11:17.092234Z",
     "start_time": "2025-03-27T17:11:17.043101Z"
    }
   },
   "cell_type": "code",
   "source": [
    "config['project'] = {\n",
    "    'name': 'birdclef_2025',\n",
    "    'project_path': '/mnt/d/Projects_D/BirdCLEF_2025'\n",
    "}\n",
    "\n",
    "config['data'] = {\n",
    "    'data_path': config['project']['project_path'] + '/data',\n",
    "    'workspace_path': config['project']['project_path'] + '/data',\n",
    "    'birdclef_2025': config['project']['project_path'] + '/data/birdclef_2025',\n",
    "    'processed_audio':config['project']['project_path'] + '/data/audio_processed',\n",
    "}\n",
    "\n",
    "config['audio_params'] = {\n",
    "    'wav_sec': 5,\n",
    "    'sample_rate': 32000,\n",
    "}\n",
    "\n",
    "config['audio_preprocessing'] = {\n",
    "    'min_segment': 32000 * 5,\n",
    "    'backend': 'soundfile'\n",
    "}\n",
    "\n",
    "config['mel_spectrogram'] = {\n",
    "    'n_fft': 1024,\n",
    "    'win_length': 1024,\n",
    "    'hop_length': 512,\n",
    "    'n_mels': 80,\n",
    "    'f_min': 20,\n",
    "    'f_max': 15000,\n",
    "    'mel_scale': 'htk',\n",
    "}\n",
    "\n",
    "config['model'] = {\n",
    "    'model_backbone': 'efficientnet',\n",
    "    'model_desc': 'efficientnet_b0',\n",
    "    'model_training': 'cv',\n",
    "    'model_ver': 'v1',\n",
    "    'model_path': config['project']['project_path'] + '/models/efficientnet_b0_cv-v1',\n",
    "}\n",
    "\n",
    "config['testing'] = {\n",
    "    'debug': 0,\n",
    "    'batch_size': 60,\n",
    "    'num_workers': 4,\n",
    "    'test_audio': config['data']['workspace_path'] + '/test_audio' + '/segments',\n",
    "    'device': torch.device('cuda' if torch.cuda.is_available() else 'cpu'),\n",
    "    'chunks_size': int(60 / int(config['audio_params']['wav_sec'])),\n",
    "    'submission_path': config['data']['workspace_path'] + '/submissions',\n",
    "    'use_tta': 0,\n",
    "    'tta_count': 3\n",
    "}"
   ],
   "id": "40d87a839496b869",
   "outputs": [],
   "execution_count": 3
  },
  {
   "metadata": {
    "ExecuteTime": {
     "end_time": "2025-03-27T17:11:17.111540Z",
     "start_time": "2025-03-27T17:11:17.100541Z"
    }
   },
   "cell_type": "code",
   "source": [
    "os.makedirs(config['testing']['test_audio'], exist_ok=True)\n",
    "os.makedirs(config['testing']['submission_path'], exist_ok=True)"
   ],
   "id": "c13d47088f73ca22",
   "outputs": [],
   "execution_count": 4
  },
  {
   "metadata": {
    "trusted": true,
    "execution": {
     "iopub.status.busy": "2025-03-20T07:56:22.052229Z",
     "iopub.execute_input": "2025-03-20T07:56:22.052772Z",
     "iopub.status.idle": "2025-03-20T07:56:22.061330Z",
     "shell.execute_reply.started": "2025-03-20T07:56:22.052731Z",
     "shell.execute_reply": "2025-03-20T07:56:22.059732Z"
    },
    "ExecuteTime": {
     "end_time": "2025-03-27T17:11:17.173051Z",
     "start_time": "2025-03-27T17:11:17.150592Z"
    }
   },
   "cell_type": "code",
   "source": "print(config['data']['birdclef_2025'], config['model']['model_path'], config['testing']['test_audio'])",
   "id": "9b20b8f219210277",
   "outputs": [
    {
     "name": "stdout",
     "output_type": "stream",
     "text": [
      "/mnt/d/Projects_D/BirdCLEF_2025/data/birdclef_2025 /mnt/d/Projects_D/BirdCLEF_2025/models/efficientnet_b0_cv-v1 /mnt/d/Projects_D/BirdCLEF_2025/data/test_audio/segments\n"
     ]
    }
   ],
   "execution_count": 5
  },
  {
   "metadata": {},
   "cell_type": "markdown",
   "source": "## Load test data",
   "id": "ffa579b7627de2d6"
  },
  {
   "metadata": {
    "trusted": true,
    "execution": {
     "iopub.status.busy": "2025-03-20T08:17:21.033338Z",
     "iopub.execute_input": "2025-03-20T08:17:21.033755Z",
     "iopub.status.idle": "2025-03-20T08:17:21.039702Z",
     "shell.execute_reply.started": "2025-03-20T08:17:21.033722Z",
     "shell.execute_reply": "2025-03-20T08:17:21.038677Z"
    },
    "ExecuteTime": {
     "end_time": "2025-03-27T17:11:17.244701Z",
     "start_time": "2025-03-27T17:11:17.210376Z"
    }
   },
   "cell_type": "code",
   "source": [
    "test_dir = '/test_soundscapes'\n",
    "test_files = [file for file in os.listdir(config['data']['birdclef_2025'] + test_dir) if file.endswith('.ogg')]\n",
    "\n",
    "if len(test_files) == 0:\n",
    "    test_dir = '/train_soundscapes'\n",
    "    test_files = [file for file in os.listdir(config['data']['birdclef_2025'] + test_dir) if file.endswith('.ogg')][:700]\n",
    "    config['testing']['debug'] = '1'"
   ],
   "id": "d588167c2a12de99",
   "outputs": [],
   "execution_count": 6
  },
  {
   "metadata": {
    "ExecuteTime": {
     "end_time": "2025-03-27T17:11:17.263193Z",
     "start_time": "2025-03-27T17:11:17.259789Z"
    }
   },
   "cell_type": "code",
   "source": "print(f\"Is Debug: {bool(int(config['testing']['debug']))}\")",
   "id": "17353e58b4cd41ac",
   "outputs": [
    {
     "name": "stdout",
     "output_type": "stream",
     "text": [
      "Is Debug: True\n"
     ]
    }
   ],
   "execution_count": 7
  },
  {
   "metadata": {},
   "cell_type": "markdown",
   "source": "## Dataset",
   "id": "ce8d63492ff3fb97"
  },
  {
   "metadata": {
    "trusted": true,
    "execution": {
     "iopub.status.busy": "2025-03-20T08:17:22.389166Z",
     "iopub.execute_input": "2025-03-20T08:17:22.389555Z",
     "iopub.status.idle": "2025-03-20T08:17:22.398723Z",
     "shell.execute_reply.started": "2025-03-20T08:17:22.389524Z",
     "shell.execute_reply": "2025-03-20T08:17:22.397622Z"
    },
    "ExecuteTime": {
     "end_time": "2025-03-27T17:11:17.318104Z",
     "start_time": "2025-03-27T17:11:17.310223Z"
    }
   },
   "cell_type": "code",
   "source": [
    "class BirdclefTestDataset(torch.utils.data.Dataset):\n",
    "    def __init__(self, df):\n",
    "        self.df = df\n",
    "        self.config = config\n",
    "        self.input_path = Path(config['testing']['test_audio'])\n",
    "        self.min_segment = int(config['audio_preprocessing']['min_segment'])\n",
    "        self.use_tta = bool(int(config['testing']['use_tta']))\n",
    "        self.tta_count = int(config['testing']['tta_count'])\n",
    "\n",
    "    @classmethod\n",
    "    def normalize_std(cls, spec, eps=1e-23):\n",
    "        mean = torch.mean(spec)\n",
    "        std = torch.std(spec)\n",
    "        return (spec - mean) / (std + eps)\n",
    "\n",
    "    def get_mel_spectrogram(self, audio_signal):\n",
    "        params = self.config['mel_spectrogram']\n",
    "        mel_spectrogram = at.MelSpectrogram(\n",
    "            sample_rate=int(self.config['audio_params']['sample_rate']),\n",
    "            n_fft=int(params['n_fft']),\n",
    "            win_length=int(params['win_length']),\n",
    "            hop_length=int(params['hop_length']),\n",
    "            n_mels=int(params['n_mels']),\n",
    "            f_min=float(params['f_min']),\n",
    "            f_max=float(params['f_max']),\n",
    "            mel_scale=params['mel_scale']\n",
    "        )\n",
    "        mel_spec = mel_spectrogram(audio_signal)\n",
    "        return torch.log(mel_spec)\n",
    "\n",
    "    def apply_tta(self, spec, tta_idx):\n",
    "        \"\"\"Apply test-time augmentation\"\"\"\n",
    "        if tta_idx == 0:\n",
    "            return spec  # Original\n",
    "        elif tta_idx == 1:\n",
    "            return torch.flip(spec, dims=[2])  # Time shift (horizontal flip)\n",
    "        elif tta_idx == 2:\n",
    "            return torch.flip(spec, dims=[1])  # Frequency shift (vertical flip)\n",
    "        elif tta_idx == 3:\n",
    "            return torch.rot90(spec, k=1, dims=[1, 2])  # 90-degree rotation\n",
    "        else:\n",
    "            return spec\n",
    "\n",
    "    def __getitem__(self, index):\n",
    "        filename = self.df.iloc[index].row_id\n",
    "        sig, _ = torchaudio.load(self.input_path / filename, backend=self.config['audio_preprocessing']['backend'])\n",
    "        sig = sig / torch.max(torch.abs(sig))\n",
    "        sig = sig + 1.5849e-05 * (torch.rand(1, self.min_segment) - 0.5)\n",
    "\n",
    "        mel_spec = self.get_mel_spectrogram(sig)\n",
    "        mel_spec = self.normalize_std(mel_spec)\n",
    "\n",
    "        if self.use_tta:\n",
    "            mel_specs = [self.apply_tta(mel_spec, tta_idx) for tta_idx in range(self.tta_count)]\n",
    "            return torch.stack(mel_specs), filename\n",
    "        else:\n",
    "            return mel_spec.unsqueeze(0), filename\n",
    "\n",
    "    def __len__(self):\n",
    "        return len(self.df)"
   ],
   "id": "832559c75a27d9a",
   "outputs": [],
   "execution_count": 8
  },
  {
   "metadata": {},
   "cell_type": "markdown",
   "source": "## Load model",
   "id": "d8459e4eda0e5ec5"
  },
  {
   "metadata": {
    "trusted": true,
    "execution": {
     "iopub.status.busy": "2025-03-20T08:17:24.258392Z",
     "iopub.execute_input": "2025-03-20T08:17:24.258799Z",
     "iopub.status.idle": "2025-03-20T08:17:24.265701Z",
     "shell.execute_reply.started": "2025-03-20T08:17:24.258768Z",
     "shell.execute_reply": "2025-03-20T08:17:24.264493Z"
    },
    "ExecuteTime": {
     "end_time": "2025-03-27T17:11:17.372435Z",
     "start_time": "2025-03-27T17:11:17.367985Z"
    }
   },
   "cell_type": "code",
   "source": [
    "class BirdclefModel(pl.LightningModule):\n",
    "    def __init__(self, class_labels):\n",
    "        super(BirdclefModel, self).__init__()\n",
    "        self.save_hyperparameters()\n",
    "        self.class_labels = class_labels\n",
    "        self.num_classes = len(self.class_labels)\n",
    "        self.model_backbone = config['model']['model_backbone']\n",
    "        self.model = self.get_model()\n",
    "\n",
    "    def get_model(self):\n",
    "        \"\"\"Initialize the model.\"\"\"\n",
    "        model_obj = timm.create_model(\n",
    "            config['model']['model_desc'],\n",
    "            pretrained=False,\n",
    "            num_classes=self.num_classes\n",
    "        )\n",
    "        return model_obj\n",
    "\n",
    "    def forward(self, x):\n",
    "        \"\"\"Forward pass with channel expansion.\"\"\"\n",
    "        x = torch.cat((x, x, x), 1)  # Repeat channels to match expected input shape\n",
    "        return self.model(x)"
   ],
   "id": "6aaaabf498ab60c0",
   "outputs": [],
   "execution_count": 9
  },
  {
   "metadata": {
    "ExecuteTime": {
     "end_time": "2025-03-27T17:11:17.423463Z",
     "start_time": "2025-03-27T17:11:17.418241Z"
    }
   },
   "cell_type": "code",
   "source": [
    "class EnsembleModel(pl.LightningModule):\n",
    "    def __init__(self, models):\n",
    "        super(EnsembleModel, self).__init__()\n",
    "        self.models = models  # List of models for cross-validation\n",
    "        self.use_tta = bool(int(config['testing']['use_tta']))\n",
    "        self.tta_count = int(config['testing']['tta_count'])\n",
    "\n",
    "    def forward(self, x):\n",
    "        \"\"\"Average predictions from all models.\"\"\"\n",
    "        if self.use_tta:\n",
    "            # Apply TTA over all models\n",
    "            batch_size, tta_count, c, h, w = x.shape\n",
    "            x = x.view(-1, c, h, w)  # Flatten TTA batch for inference\n",
    "\n",
    "            preds = []\n",
    "            for model in self.models:\n",
    "                preds.append(model(x))  # Inference on all TTA samples\n",
    "\n",
    "            preds = torch.stack(preds, dim=0)  # [n_models, n_tta * batch, n_classes]\n",
    "            preds = preds.view(len(self.models), batch_size, tta_count, -1)  # Reshape back\n",
    "            preds = preds.mean(dim=2)  # Average over TTA\n",
    "        else:\n",
    "            # No TTA, standard inference\n",
    "            batch_size, tta_count, c, h, w = x.shape if x.dim() == 5 else (x.size(0), 1, *x.shape[1:])\n",
    "            x = x.view(-1, c, h, w)  # Ensure 4D input\n",
    "            preds = torch.stack([model(x) for model in self.models], dim=0)\n",
    "\n",
    "        return preds.mean(dim=0)  # Average across models"
   ],
   "id": "6ed2d80620961c97",
   "outputs": [],
   "execution_count": 10
  },
  {
   "metadata": {},
   "cell_type": "markdown",
   "source": "## Labels",
   "id": "5cc3b2df0071ef45"
  },
  {
   "metadata": {
    "trusted": true,
    "execution": {
     "iopub.status.busy": "2025-03-20T08:17:25.900799Z",
     "iopub.execute_input": "2025-03-20T08:17:25.901210Z",
     "iopub.status.idle": "2025-03-20T08:17:25.909934Z",
     "shell.execute_reply.started": "2025-03-20T08:17:25.901179Z",
     "shell.execute_reply": "2025-03-20T08:17:25.908881Z"
    },
    "ExecuteTime": {
     "end_time": "2025-03-27T17:11:17.473556Z",
     "start_time": "2025-03-27T17:11:17.468449Z"
    }
   },
   "cell_type": "code",
   "source": [
    "class_labels = os.listdir(config['data']['birdclef_2025'] + '/train_audio')\n",
    "num_classes = len(class_labels)"
   ],
   "id": "84b0ade568fcaf50",
   "outputs": [],
   "execution_count": 11
  },
  {
   "metadata": {
    "trusted": true,
    "execution": {
     "iopub.status.busy": "2025-03-20T08:17:27.257039Z",
     "iopub.execute_input": "2025-03-20T08:17:27.257466Z",
     "iopub.status.idle": "2025-03-20T08:17:27.263954Z",
     "shell.execute_reply.started": "2025-03-20T08:17:27.257391Z",
     "shell.execute_reply": "2025-03-20T08:17:27.262884Z"
    },
    "ExecuteTime": {
     "end_time": "2025-03-27T17:11:17.525241Z",
     "start_time": "2025-03-27T17:11:17.519718Z"
    }
   },
   "cell_type": "code",
   "source": "num_classes",
   "id": "841581e80c14c183",
   "outputs": [
    {
     "data": {
      "text/plain": [
       "206"
      ]
     },
     "execution_count": 12,
     "metadata": {},
     "output_type": "execute_result"
    }
   ],
   "execution_count": 12
  },
  {
   "metadata": {},
   "cell_type": "markdown",
   "source": "## Process test dataset",
   "id": "f4b246b0739ff33a"
  },
  {
   "metadata": {
    "ExecuteTime": {
     "end_time": "2025-03-27T17:11:28.943493Z",
     "start_time": "2025-03-27T17:11:17.570660Z"
    }
   },
   "cell_type": "code",
   "source": [
    "chunks_size = int(config['testing']['chunks_size'])\n",
    "\n",
    "test_segment_files_dict = {}\n",
    "\n",
    "for i in range(len(test_files)):\n",
    "    test_segment_files_dict[i] = []\n",
    "\n",
    "def process_file(file, index):\n",
    "    test_filename = file.split('.')[0]\n",
    "    sig, sr = torchaudio.load(config['data']['birdclef_2025'] + test_dir + '/' + file, backend=config['audio_preprocessing']['backend'])\n",
    "    chunks = torch.chunk(sig, chunks_size, dim=1)\n",
    "    for i, chunk in enumerate(chunks):\n",
    "        test_segment_filename = config['testing']['test_audio'] + '/' + test_filename + '_' + str((i+1) * int(config['audio_params']['wav_sec'])) + '.ogg'\n",
    "        if not os.path.exists(test_segment_filename):\n",
    "            torchaudio.save(test_segment_filename, chunk, sr, backend=config['audio_preprocessing']['backend'])\n",
    "        test_segment_files_dict[index].append(test_segment_filename.split('/')[-1])\n",
    "\n",
    "# Use ThreadPoolExecutor to parallelize the processing\n",
    "with concurrent.futures.ThreadPoolExecutor(max_workers=10) as executor:\n",
    "    executor.map(process_file, test_files, [i for i in range(len(test_files))])"
   ],
   "id": "e39d93f7fbb3ae09",
   "outputs": [],
   "execution_count": 13
  },
  {
   "metadata": {
    "ExecuteTime": {
     "end_time": "2025-03-27T17:11:28.956257Z",
     "start_time": "2025-03-27T17:11:28.952910Z"
    }
   },
   "cell_type": "code",
   "source": [
    "test_segment_files = []\n",
    "\n",
    "for i in range(len(test_files)):\n",
    "    test_segment_files.extend(test_segment_files_dict[i])"
   ],
   "id": "b2fae7d67eee04a5",
   "outputs": [],
   "execution_count": 14
  },
  {
   "metadata": {
    "ExecuteTime": {
     "end_time": "2025-03-27T17:11:29.023964Z",
     "start_time": "2025-03-27T17:11:29.001032Z"
    }
   },
   "cell_type": "code",
   "source": [
    "if len(test_segment_files) > 0:\n",
    "    sig, sr = torchaudio.load(config['testing']['test_audio'] + '/' + test_segment_files[0])\n",
    "    print(sig.shape, sr)"
   ],
   "id": "4c2949a78a6f4f68",
   "outputs": [
    {
     "name": "stdout",
     "output_type": "stream",
     "text": [
      "torch.Size([1, 160000]) 32000\n"
     ]
    }
   ],
   "execution_count": 15
  },
  {
   "metadata": {
    "ExecuteTime": {
     "end_time": "2025-03-27T17:11:29.064565Z",
     "start_time": "2025-03-27T17:11:29.060497Z"
    }
   },
   "cell_type": "code",
   "source": "test_df = pd.DataFrame(test_segment_files, columns=['row_id'])",
   "id": "5cef9695df138df6",
   "outputs": [],
   "execution_count": 16
  },
  {
   "metadata": {
    "ExecuteTime": {
     "end_time": "2025-03-27T17:11:29.118212Z",
     "start_time": "2025-03-27T17:11:29.111945Z"
    }
   },
   "cell_type": "code",
   "source": "test_df.count()",
   "id": "d274eff60bdf3ce3",
   "outputs": [
    {
     "data": {
      "text/plain": [
       "row_id    8400\n",
       "dtype: int64"
      ]
     },
     "execution_count": 17,
     "metadata": {},
     "output_type": "execute_result"
    }
   ],
   "execution_count": 17
  },
  {
   "metadata": {
    "ExecuteTime": {
     "end_time": "2025-03-27T17:11:29.201836Z",
     "start_time": "2025-03-27T17:11:29.196468Z"
    }
   },
   "cell_type": "code",
   "source": "test_df.head()",
   "id": "c988d434c7909a54",
   "outputs": [
    {
     "data": {
      "text/plain": [
       "                       row_id\n",
       "0   H02_20230420_074000_5.ogg\n",
       "1  H02_20230420_074000_10.ogg\n",
       "2  H02_20230420_074000_15.ogg\n",
       "3  H02_20230420_074000_20.ogg\n",
       "4  H02_20230420_074000_25.ogg"
      ],
      "text/html": [
       "<div>\n",
       "<style scoped>\n",
       "    .dataframe tbody tr th:only-of-type {\n",
       "        vertical-align: middle;\n",
       "    }\n",
       "\n",
       "    .dataframe tbody tr th {\n",
       "        vertical-align: top;\n",
       "    }\n",
       "\n",
       "    .dataframe thead th {\n",
       "        text-align: right;\n",
       "    }\n",
       "</style>\n",
       "<table border=\"1\" class=\"dataframe\">\n",
       "  <thead>\n",
       "    <tr style=\"text-align: right;\">\n",
       "      <th></th>\n",
       "      <th>row_id</th>\n",
       "    </tr>\n",
       "  </thead>\n",
       "  <tbody>\n",
       "    <tr>\n",
       "      <th>0</th>\n",
       "      <td>H02_20230420_074000_5.ogg</td>\n",
       "    </tr>\n",
       "    <tr>\n",
       "      <th>1</th>\n",
       "      <td>H02_20230420_074000_10.ogg</td>\n",
       "    </tr>\n",
       "    <tr>\n",
       "      <th>2</th>\n",
       "      <td>H02_20230420_074000_15.ogg</td>\n",
       "    </tr>\n",
       "    <tr>\n",
       "      <th>3</th>\n",
       "      <td>H02_20230420_074000_20.ogg</td>\n",
       "    </tr>\n",
       "    <tr>\n",
       "      <th>4</th>\n",
       "      <td>H02_20230420_074000_25.ogg</td>\n",
       "    </tr>\n",
       "  </tbody>\n",
       "</table>\n",
       "</div>"
      ]
     },
     "execution_count": 18,
     "metadata": {},
     "output_type": "execute_result"
    }
   ],
   "execution_count": 18
  },
  {
   "metadata": {},
   "cell_type": "markdown",
   "source": "## Load model",
   "id": "ba35d379f8c83c43"
  },
  {
   "metadata": {
    "trusted": true,
    "execution": {
     "iopub.status.busy": "2025-03-20T08:17:28.861945Z",
     "iopub.execute_input": "2025-03-20T08:17:28.862362Z",
     "iopub.status.idle": "2025-03-20T08:17:29.942200Z",
     "shell.execute_reply.started": "2025-03-20T08:17:28.862327Z",
     "shell.execute_reply": "2025-03-20T08:17:29.941165Z"
    },
    "ExecuteTime": {
     "end_time": "2025-03-27T17:11:33.316101Z",
     "start_time": "2025-03-27T17:11:29.240847Z"
    }
   },
   "cell_type": "code",
   "source": [
    "# checkpoint_paths = [config['model']['model_path'] + '/' + config['model']['model_desc'] + '_' + config['model']['model_training'] + f'_fold{fold}' + '-' + config['model']['model_ver'] + '.ckpt' for fold in range(5)]\n",
    "# model = BirdclefModel(class_labels=class_labels, checkpoint_paths=checkpoint_paths)\n",
    "# model = model.to(torch.float32)\n",
    "# model = model.to('cpu')\n",
    "# model.eval()\n",
    "\n",
    "fold_models = []\n",
    "for fold in range(5):\n",
    "    checkpoint_path = os.path.join(\n",
    "        config['model']['model_path'],\n",
    "        config['model']['model_desc'] + '_' + config['model']['model_training'] + f'_fold{fold}' + '-' + config['model']['model_ver'] + '.ckpt'\n",
    "    )\n",
    "    model = BirdclefModel.load_from_checkpoint(checkpoint_path, class_labels=class_labels)\n",
    "    model = model.to(torch.float32).to('cpu').eval()\n",
    "    fold_models.append(model)\n",
    "\n",
    "# Create ensemble model with 5-fold models\n",
    "ensemble_model = EnsembleModel(fold_models)\n",
    "ensemble_model = ensemble_model.to(torch.float32).to('cpu').eval()"
   ],
   "id": "bc0b6f28ce21c399",
   "outputs": [],
   "execution_count": 19
  },
  {
   "metadata": {},
   "cell_type": "markdown",
   "source": "## Make predictions",
   "id": "1f3c28267ea81c7d"
  },
  {
   "metadata": {
    "ExecuteTime": {
     "end_time": "2025-03-27T17:11:33.349080Z",
     "start_time": "2025-03-27T17:11:33.345518Z"
    }
   },
   "cell_type": "code",
   "source": [
    "test_dataset = BirdclefTestDataset(test_df)\n",
    "test_loader = DataLoader(test_dataset, batch_size=int(config['testing']['batch_size']), shuffle=False, num_workers=int(config['testing']['num_workers']), drop_last=False)"
   ],
   "id": "436133c668d3f020",
   "outputs": [],
   "execution_count": 20
  },
  {
   "metadata": {
    "ExecuteTime": {
     "end_time": "2025-03-27T17:18:14.762432Z",
     "start_time": "2025-03-27T17:11:33.383190Z"
    }
   },
   "cell_type": "code",
   "source": [
    "pred = {'row_id': []}\n",
    "for species_code in class_labels:\n",
    "    pred[species_code] = []\n",
    "\n",
    "with torch.no_grad():\n",
    "    for mel_spec, filename in tqdm(test_loader):\n",
    "        preds = ensemble_model(mel_spec)\n",
    "        preds = torch.softmax(preds, dim=1).cpu().numpy()\n",
    "\n",
    "        for file, prediction in zip(filename, preds):\n",
    "            file_name = file.split('.')[0]\n",
    "            pred['row_id'].append(file_name)\n",
    "\n",
    "            for i, label in enumerate(class_labels):\n",
    "                pred[label].append(prediction[i])"
   ],
   "id": "648cc96bbad45baa",
   "outputs": [
    {
     "name": "stderr",
     "output_type": "stream",
     "text": [
      "100%|██████████| 140/140 [06:41<00:00,  2.87s/it]\n"
     ]
    }
   ],
   "execution_count": 21
  },
  {
   "metadata": {},
   "cell_type": "markdown",
   "source": "## Prepare submission file",
   "id": "7fe7ddf4c2e464f0"
  },
  {
   "metadata": {
    "ExecuteTime": {
     "end_time": "2025-03-27T17:18:15.320630Z",
     "start_time": "2025-03-27T17:18:14.961712Z"
    }
   },
   "cell_type": "code",
   "source": "submission = pd.DataFrame(pred)",
   "id": "23fda23f53f2d6d4",
   "outputs": [],
   "execution_count": 22
  },
  {
   "metadata": {
    "ExecuteTime": {
     "end_time": "2025-03-27T17:18:15.339638Z",
     "start_time": "2025-03-27T17:18:15.334965Z"
    }
   },
   "cell_type": "code",
   "source": "submission.shape",
   "id": "9efbdb5e802c16e9",
   "outputs": [
    {
     "data": {
      "text/plain": [
       "(8400, 207)"
      ]
     },
     "execution_count": 23,
     "metadata": {},
     "output_type": "execute_result"
    }
   ],
   "execution_count": 23
  },
  {
   "metadata": {
    "ExecuteTime": {
     "end_time": "2025-03-27T17:18:15.427449Z",
     "start_time": "2025-03-27T17:18:15.413334Z"
    }
   },
   "cell_type": "code",
   "source": "submission.head()",
   "id": "20adc145a4739116",
   "outputs": [
    {
     "data": {
      "text/plain": [
       "                   row_id   1139490   1192948   1194042    126247   1346504  \\\n",
       "0   H02_20230420_074000_5  0.001099  0.000514  0.002223  0.000424  0.002499   \n",
       "1  H02_20230420_074000_10  0.001678  0.000699  0.004310  0.001935  0.003054   \n",
       "2  H02_20230420_074000_15  0.001540  0.000458  0.002793  0.001847  0.001785   \n",
       "3  H02_20230420_074000_20  0.002555  0.000774  0.004188  0.002378  0.003967   \n",
       "4  H02_20230420_074000_25  0.002636  0.001123  0.004438  0.001683  0.003998   \n",
       "\n",
       "     134933    135045   1462711   1462737  ...   yebfly1   yebsee1   yecspi2  \\\n",
       "0  0.003292  0.009536  0.001740  0.001652  ...  0.000682  0.000387  0.000084   \n",
       "1  0.003054  0.017736  0.001351  0.004202  ...  0.000462  0.000532  0.000251   \n",
       "2  0.002368  0.014820  0.001194  0.002635  ...  0.001386  0.002330  0.001292   \n",
       "3  0.002063  0.022302  0.001989  0.006783  ...  0.000763  0.000827  0.000610   \n",
       "4  0.004953  0.022785  0.002362  0.007482  ...  0.001214  0.002023  0.000922   \n",
       "\n",
       "    yectyr1   yehbla2   yehcar1   yelori1   yeofly1   yercac1    ywcpar  \n",
       "0  0.000807  0.000093  0.000045  0.000008  0.004755  0.000053  0.000047  \n",
       "1  0.000680  0.000043  0.000023  0.000017  0.011091  0.000031  0.000064  \n",
       "2  0.001194  0.000362  0.000123  0.000081  0.010977  0.000123  0.000139  \n",
       "3  0.000447  0.000102  0.000092  0.000023  0.012044  0.000107  0.000070  \n",
       "4  0.000471  0.000294  0.000052  0.000055  0.010885  0.000030  0.000086  \n",
       "\n",
       "[5 rows x 207 columns]"
      ],
      "text/html": [
       "<div>\n",
       "<style scoped>\n",
       "    .dataframe tbody tr th:only-of-type {\n",
       "        vertical-align: middle;\n",
       "    }\n",
       "\n",
       "    .dataframe tbody tr th {\n",
       "        vertical-align: top;\n",
       "    }\n",
       "\n",
       "    .dataframe thead th {\n",
       "        text-align: right;\n",
       "    }\n",
       "</style>\n",
       "<table border=\"1\" class=\"dataframe\">\n",
       "  <thead>\n",
       "    <tr style=\"text-align: right;\">\n",
       "      <th></th>\n",
       "      <th>row_id</th>\n",
       "      <th>1139490</th>\n",
       "      <th>1192948</th>\n",
       "      <th>1194042</th>\n",
       "      <th>126247</th>\n",
       "      <th>1346504</th>\n",
       "      <th>134933</th>\n",
       "      <th>135045</th>\n",
       "      <th>1462711</th>\n",
       "      <th>1462737</th>\n",
       "      <th>...</th>\n",
       "      <th>yebfly1</th>\n",
       "      <th>yebsee1</th>\n",
       "      <th>yecspi2</th>\n",
       "      <th>yectyr1</th>\n",
       "      <th>yehbla2</th>\n",
       "      <th>yehcar1</th>\n",
       "      <th>yelori1</th>\n",
       "      <th>yeofly1</th>\n",
       "      <th>yercac1</th>\n",
       "      <th>ywcpar</th>\n",
       "    </tr>\n",
       "  </thead>\n",
       "  <tbody>\n",
       "    <tr>\n",
       "      <th>0</th>\n",
       "      <td>H02_20230420_074000_5</td>\n",
       "      <td>0.001099</td>\n",
       "      <td>0.000514</td>\n",
       "      <td>0.002223</td>\n",
       "      <td>0.000424</td>\n",
       "      <td>0.002499</td>\n",
       "      <td>0.003292</td>\n",
       "      <td>0.009536</td>\n",
       "      <td>0.001740</td>\n",
       "      <td>0.001652</td>\n",
       "      <td>...</td>\n",
       "      <td>0.000682</td>\n",
       "      <td>0.000387</td>\n",
       "      <td>0.000084</td>\n",
       "      <td>0.000807</td>\n",
       "      <td>0.000093</td>\n",
       "      <td>0.000045</td>\n",
       "      <td>0.000008</td>\n",
       "      <td>0.004755</td>\n",
       "      <td>0.000053</td>\n",
       "      <td>0.000047</td>\n",
       "    </tr>\n",
       "    <tr>\n",
       "      <th>1</th>\n",
       "      <td>H02_20230420_074000_10</td>\n",
       "      <td>0.001678</td>\n",
       "      <td>0.000699</td>\n",
       "      <td>0.004310</td>\n",
       "      <td>0.001935</td>\n",
       "      <td>0.003054</td>\n",
       "      <td>0.003054</td>\n",
       "      <td>0.017736</td>\n",
       "      <td>0.001351</td>\n",
       "      <td>0.004202</td>\n",
       "      <td>...</td>\n",
       "      <td>0.000462</td>\n",
       "      <td>0.000532</td>\n",
       "      <td>0.000251</td>\n",
       "      <td>0.000680</td>\n",
       "      <td>0.000043</td>\n",
       "      <td>0.000023</td>\n",
       "      <td>0.000017</td>\n",
       "      <td>0.011091</td>\n",
       "      <td>0.000031</td>\n",
       "      <td>0.000064</td>\n",
       "    </tr>\n",
       "    <tr>\n",
       "      <th>2</th>\n",
       "      <td>H02_20230420_074000_15</td>\n",
       "      <td>0.001540</td>\n",
       "      <td>0.000458</td>\n",
       "      <td>0.002793</td>\n",
       "      <td>0.001847</td>\n",
       "      <td>0.001785</td>\n",
       "      <td>0.002368</td>\n",
       "      <td>0.014820</td>\n",
       "      <td>0.001194</td>\n",
       "      <td>0.002635</td>\n",
       "      <td>...</td>\n",
       "      <td>0.001386</td>\n",
       "      <td>0.002330</td>\n",
       "      <td>0.001292</td>\n",
       "      <td>0.001194</td>\n",
       "      <td>0.000362</td>\n",
       "      <td>0.000123</td>\n",
       "      <td>0.000081</td>\n",
       "      <td>0.010977</td>\n",
       "      <td>0.000123</td>\n",
       "      <td>0.000139</td>\n",
       "    </tr>\n",
       "    <tr>\n",
       "      <th>3</th>\n",
       "      <td>H02_20230420_074000_20</td>\n",
       "      <td>0.002555</td>\n",
       "      <td>0.000774</td>\n",
       "      <td>0.004188</td>\n",
       "      <td>0.002378</td>\n",
       "      <td>0.003967</td>\n",
       "      <td>0.002063</td>\n",
       "      <td>0.022302</td>\n",
       "      <td>0.001989</td>\n",
       "      <td>0.006783</td>\n",
       "      <td>...</td>\n",
       "      <td>0.000763</td>\n",
       "      <td>0.000827</td>\n",
       "      <td>0.000610</td>\n",
       "      <td>0.000447</td>\n",
       "      <td>0.000102</td>\n",
       "      <td>0.000092</td>\n",
       "      <td>0.000023</td>\n",
       "      <td>0.012044</td>\n",
       "      <td>0.000107</td>\n",
       "      <td>0.000070</td>\n",
       "    </tr>\n",
       "    <tr>\n",
       "      <th>4</th>\n",
       "      <td>H02_20230420_074000_25</td>\n",
       "      <td>0.002636</td>\n",
       "      <td>0.001123</td>\n",
       "      <td>0.004438</td>\n",
       "      <td>0.001683</td>\n",
       "      <td>0.003998</td>\n",
       "      <td>0.004953</td>\n",
       "      <td>0.022785</td>\n",
       "      <td>0.002362</td>\n",
       "      <td>0.007482</td>\n",
       "      <td>...</td>\n",
       "      <td>0.001214</td>\n",
       "      <td>0.002023</td>\n",
       "      <td>0.000922</td>\n",
       "      <td>0.000471</td>\n",
       "      <td>0.000294</td>\n",
       "      <td>0.000052</td>\n",
       "      <td>0.000055</td>\n",
       "      <td>0.010885</td>\n",
       "      <td>0.000030</td>\n",
       "      <td>0.000086</td>\n",
       "    </tr>\n",
       "  </tbody>\n",
       "</table>\n",
       "<p>5 rows × 207 columns</p>\n",
       "</div>"
      ]
     },
     "execution_count": 24,
     "metadata": {},
     "output_type": "execute_result"
    }
   ],
   "execution_count": 24
  },
  {
   "metadata": {
    "ExecuteTime": {
     "end_time": "2025-03-27T17:18:17.485635Z",
     "start_time": "2025-03-27T17:18:15.484689Z"
    }
   },
   "cell_type": "code",
   "source": "submission.to_csv(config['testing']['submission_path'] + '/' + config['model']['model_desc'] + '-' + config['model']['model_training'] + '-' + config['model']['model_ver'] + f'-use_tta_{int(config[\"testing\"][\"use_tta\"])}' +'-submission.csv', index=False)",
   "id": "936d3927426d0792",
   "outputs": [],
   "execution_count": 25
  },
  {
   "metadata": {},
   "cell_type": "markdown",
   "source": "## End",
   "id": "92f7b1e36d1ad783"
  }
 ],
 "metadata": {
  "kernelspec": {
   "display_name": "Python 3",
   "language": "python",
   "name": "python3"
  },
  "language_info": {
   "codemirror_mode": {
    "name": "ipython",
    "version": 2
   },
   "file_extension": ".py",
   "mimetype": "text/x-python",
   "name": "python",
   "nbconvert_exporter": "python",
   "pygments_lexer": "ipython2",
   "version": "2.7.6"
  }
 },
 "nbformat": 4,
 "nbformat_minor": 5
}
