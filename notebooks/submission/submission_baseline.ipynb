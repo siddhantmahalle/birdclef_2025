{
 "cells": [
  {
   "metadata": {},
   "cell_type": "markdown",
   "source": "# BirdClef+ 2025 Submission Baseline",
   "id": "80ac1c8eaf990b3d"
  },
  {
   "metadata": {},
   "cell_type": "markdown",
   "source": "## Import libraries",
   "id": "8d6b295ceb77ff75"
  },
  {
   "metadata": {
    "ExecuteTime": {
     "end_time": "2025-03-20T11:35:04.294700Z",
     "start_time": "2025-03-20T11:35:01.265076Z"
    }
   },
   "cell_type": "code",
   "source": [
    "import configparser\n",
    "import os\n",
    "import warnings\n",
    "from pathlib import Path\n",
    "import time\n",
    "from tqdm import tqdm\n",
    "import concurrent.futures\n",
    "\n",
    "import numpy as np\n",
    "import pandas as pd\n",
    "import librosa\n",
    "import soundfile\n",
    "import torch\n",
    "import torchaudio\n",
    "import torchaudio.transforms as at\n",
    "from torch.utils.data import Dataset, DataLoader\n",
    "import torch.nn as nn\n",
    "from torchvision import models\n",
    "import torch.optim as optim\n",
    "\n",
    "import pytorch_lightning as pl\n",
    "\n",
    "warnings.filterwarnings('ignore')"
   ],
   "id": "a62daeb40efed21c",
   "outputs": [],
   "execution_count": 1
  },
  {
   "metadata": {},
   "cell_type": "markdown",
   "source": "## Config",
   "id": "ff03b0bd5d318bfc"
  },
  {
   "metadata": {
    "ExecuteTime": {
     "end_time": "2025-03-20T11:35:04.301698Z",
     "start_time": "2025-03-20T11:35:04.298885Z"
    }
   },
   "cell_type": "code",
   "source": "config = configparser.ConfigParser()",
   "id": "45c13d1b98814c90",
   "outputs": [],
   "execution_count": 2
  },
  {
   "metadata": {
    "ExecuteTime": {
     "end_time": "2025-03-20T11:35:05.981335Z",
     "start_time": "2025-03-20T11:35:04.382521Z"
    }
   },
   "cell_type": "code",
   "source": [
    "config['project'] = {\n",
    "    'name': 'birdclef_2025',\n",
    "    'project_path': '/mnt/d/Projects_D/BirdCLEF_2025'\n",
    "}\n",
    "\n",
    "config['data'] = {\n",
    "    'data_path': config['project']['project_path'] + '/data',\n",
    "    'workspace_path': config['project']['project_path'] + '/data/',\n",
    "    'birdclef_2025': config['project']['project_path'] + '/data/birdclef_2025',\n",
    "    'processed_audio':config['project']['project_path'] + '/data/audio_processed',\n",
    "}\n",
    "\n",
    "config['audio_params'] = {\n",
    "    'wav_sec': 5,\n",
    "    'sample_rate': 32000,\n",
    "}\n",
    "\n",
    "config['audio_preprocessing'] = {\n",
    "    'min_segment': 32000 * 5,\n",
    "    'backend': 'soundfile'\n",
    "}\n",
    "\n",
    "config['mel_spectrogram'] = {\n",
    "    'n_fft': 1024,\n",
    "    'win_length': 1024,\n",
    "    'hop_length': 512,\n",
    "    'n_mels': 80,\n",
    "    'f_min': 20,\n",
    "    'f_max': 15000,\n",
    "    'mel_scale': 'htk',\n",
    "}\n",
    "\n",
    "config['model'] = {\n",
    "    'model_backbone': 'resnet34',\n",
    "    'model_desc': 'resnet34',\n",
    "    'model_ver': 'baseline',\n",
    "    'model_path': config['project']['project_path'] + '/models/resnet34-baseline'\n",
    "}\n",
    "\n",
    "config['testing'] = {\n",
    "    'debug': 0,\n",
    "    'batch_size': 60,\n",
    "    'num_workers': 4,\n",
    "    'test_audio': config['data']['workspace_path'] + '/test_audio' + '/segments',\n",
    "    'device': torch.device('cuda' if torch.cuda.is_available() else 'cpu'),\n",
    "    'chunks_size': int(60 / int(config['audio_params']['wav_sec'])),\n",
    "    'submission_path': config['data']['workspace_path'] + '/submissions'\n",
    "}"
   ],
   "id": "40d87a839496b869",
   "outputs": [],
   "execution_count": 3
  },
  {
   "metadata": {
    "ExecuteTime": {
     "end_time": "2025-03-20T11:35:05.996294Z",
     "start_time": "2025-03-20T11:35:05.988081Z"
    }
   },
   "cell_type": "code",
   "source": [
    "os.makedirs(config['testing']['test_audio'], exist_ok=True)\n",
    "os.makedirs(config['testing']['submission_path'], exist_ok=True)"
   ],
   "id": "c13d47088f73ca22",
   "outputs": [],
   "execution_count": 4
  },
  {
   "metadata": {
    "trusted": true,
    "execution": {
     "iopub.status.busy": "2025-03-20T07:56:22.052229Z",
     "iopub.execute_input": "2025-03-20T07:56:22.052772Z",
     "iopub.status.idle": "2025-03-20T07:56:22.061330Z",
     "shell.execute_reply.started": "2025-03-20T07:56:22.052731Z",
     "shell.execute_reply": "2025-03-20T07:56:22.059732Z"
    },
    "ExecuteTime": {
     "end_time": "2025-03-20T11:35:06.043027Z",
     "start_time": "2025-03-20T11:35:06.039557Z"
    }
   },
   "cell_type": "code",
   "source": "print(config['data']['birdclef_2025'], config['model']['model_path'], config['testing']['test_audio'])",
   "id": "9b20b8f219210277",
   "outputs": [
    {
     "name": "stdout",
     "output_type": "stream",
     "text": [
      "/mnt/d/Projects_D/BirdCLEF_2025/data/birdclef_2025 /mnt/d/Projects_D/BirdCLEF_2025/models/resnet34-baseline /mnt/d/Projects_D/BirdCLEF_2025/data//test_audio/segments\n"
     ]
    }
   ],
   "execution_count": 5
  },
  {
   "metadata": {},
   "cell_type": "markdown",
   "source": "## Load test data",
   "id": "ffa579b7627de2d6"
  },
  {
   "metadata": {
    "trusted": true,
    "execution": {
     "iopub.status.busy": "2025-03-20T08:17:21.033338Z",
     "iopub.execute_input": "2025-03-20T08:17:21.033755Z",
     "iopub.status.idle": "2025-03-20T08:17:21.039702Z",
     "shell.execute_reply.started": "2025-03-20T08:17:21.033722Z",
     "shell.execute_reply": "2025-03-20T08:17:21.038677Z"
    },
    "ExecuteTime": {
     "end_time": "2025-03-20T11:35:06.119648Z",
     "start_time": "2025-03-20T11:35:06.089850Z"
    }
   },
   "cell_type": "code",
   "source": [
    "test_dir = '/test_soundscapes'\n",
    "test_files = [file for file in os.listdir(config['data']['birdclef_2025'] + test_dir) if file.endswith('.ogg')]\n",
    "\n",
    "if len(test_files) == 0:\n",
    "    test_dir = '/train_soundscapes'\n",
    "    test_files = [file for file in os.listdir(config['data']['birdclef_2025'] + test_dir) if file.endswith('.ogg')][:700]\n",
    "    config['testing']['debug'] = '1'"
   ],
   "id": "d588167c2a12de99",
   "outputs": [],
   "execution_count": 6
  },
  {
   "metadata": {
    "ExecuteTime": {
     "end_time": "2025-03-20T11:35:06.152341Z",
     "start_time": "2025-03-20T11:35:06.148888Z"
    }
   },
   "cell_type": "code",
   "source": "print(f\"Is Debug: {bool(int(config['testing']['debug']))}\")",
   "id": "17353e58b4cd41ac",
   "outputs": [
    {
     "name": "stdout",
     "output_type": "stream",
     "text": [
      "Is Debug: True\n"
     ]
    }
   ],
   "execution_count": 7
  },
  {
   "metadata": {},
   "cell_type": "markdown",
   "source": "## Dataset",
   "id": "ce8d63492ff3fb97"
  },
  {
   "metadata": {
    "trusted": true,
    "execution": {
     "iopub.status.busy": "2025-03-20T08:17:22.389166Z",
     "iopub.execute_input": "2025-03-20T08:17:22.389555Z",
     "iopub.status.idle": "2025-03-20T08:17:22.398723Z",
     "shell.execute_reply.started": "2025-03-20T08:17:22.389524Z",
     "shell.execute_reply": "2025-03-20T08:17:22.397622Z"
    },
    "ExecuteTime": {
     "end_time": "2025-03-20T11:35:06.205236Z",
     "start_time": "2025-03-20T11:35:06.199947Z"
    }
   },
   "cell_type": "code",
   "source": [
    "class BirdclefTestDataset(torch.utils.data.Dataset):\n",
    "    def __init__(self, df):\n",
    "        self.df = df\n",
    "        self.config = config\n",
    "        self.input_path = Path(config['testing']['test_audio'])\n",
    "        self.min_segment = int(config['audio_preprocessing']['min_segment'])\n",
    "\n",
    "    @classmethod\n",
    "    def normalize_std(cls, spec, eps=1e-23):\n",
    "        mean = torch.mean(spec)\n",
    "        std = torch.std(spec)\n",
    "        return (spec - mean) / (std + eps)\n",
    "\n",
    "    def get_mel_spectrogram(self, audio_signal):\n",
    "        params = self.config['mel_spectrogram']\n",
    "        mel_spectrogram = at.MelSpectrogram(\n",
    "            sample_rate=int(self.config['audio_params']['sample_rate']),\n",
    "            n_fft=int(params['n_fft']),\n",
    "            win_length=int(params['win_length']),\n",
    "            hop_length=int(params['hop_length']),\n",
    "            n_mels=int(params['n_mels']),\n",
    "            f_min=float(params['f_min']),\n",
    "            f_max=float(params['f_max']),\n",
    "            mel_scale=params['mel_scale']\n",
    "        )\n",
    "        mel_spec = mel_spectrogram(audio_signal)\n",
    "        return torch.log(mel_spec)\n",
    "\n",
    "    def __getitem__(self, index):\n",
    "        filename = self.df.iloc[index].row_id\n",
    "        sig, _ = torchaudio.load(self.input_path / filename, backend=self.config['audio_preprocessing']['backend'])\n",
    "        sig = sig / torch.max(torch.abs(sig))\n",
    "        sig = sig + 1.5849e-05 * (torch.rand(1, self.min_segment) - 0.5)\n",
    "\n",
    "        mel_spec = self.get_mel_spectrogram(sig)\n",
    "        mel_spec = self.normalize_std(mel_spec)\n",
    "\n",
    "        return mel_spec, filename\n",
    "\n",
    "    def __len__(self):\n",
    "        return len(self.df)"
   ],
   "id": "832559c75a27d9a",
   "outputs": [],
   "execution_count": 8
  },
  {
   "metadata": {},
   "cell_type": "markdown",
   "source": "## Load model",
   "id": "d8459e4eda0e5ec5"
  },
  {
   "metadata": {
    "trusted": true,
    "execution": {
     "iopub.status.busy": "2025-03-20T08:17:24.258392Z",
     "iopub.execute_input": "2025-03-20T08:17:24.258799Z",
     "iopub.status.idle": "2025-03-20T08:17:24.265701Z",
     "shell.execute_reply.started": "2025-03-20T08:17:24.258768Z",
     "shell.execute_reply": "2025-03-20T08:17:24.264493Z"
    },
    "ExecuteTime": {
     "end_time": "2025-03-20T11:35:06.263953Z",
     "start_time": "2025-03-20T11:35:06.258354Z"
    }
   },
   "cell_type": "code",
   "source": [
    "class BirdclefModel(pl.LightningModule):\n",
    "    def __init__(self, class_labels):\n",
    "        super(BirdclefModel, self).__init__()\n",
    "        self.save_hyperparameters()\n",
    "        self.class_labels = class_labels\n",
    "        self.num_classes = len(self.class_labels)\n",
    "        self.model_backbone = config['model']['model_backbone']\n",
    "        self.model = self.get_model()\n",
    "\n",
    "    def get_model(self):\n",
    "        model = models.resnet34(pretrained=False)\n",
    "        num_features = model.fc.in_features\n",
    "        model.fc = torch.nn.Linear(num_features, self.num_classes)\n",
    "        return model\n",
    "\n",
    "    def forward(self, x):\n",
    "        x = torch.cat((x, x, x), 1)\n",
    "        return self.model(x)"
   ],
   "id": "6aaaabf498ab60c0",
   "outputs": [],
   "execution_count": 9
  },
  {
   "metadata": {},
   "cell_type": "markdown",
   "source": "## Labels",
   "id": "5cc3b2df0071ef45"
  },
  {
   "metadata": {
    "trusted": true,
    "execution": {
     "iopub.status.busy": "2025-03-20T08:17:25.900799Z",
     "iopub.execute_input": "2025-03-20T08:17:25.901210Z",
     "iopub.status.idle": "2025-03-20T08:17:25.909934Z",
     "shell.execute_reply.started": "2025-03-20T08:17:25.901179Z",
     "shell.execute_reply": "2025-03-20T08:17:25.908881Z"
    },
    "ExecuteTime": {
     "end_time": "2025-03-20T11:35:06.313876Z",
     "start_time": "2025-03-20T11:35:06.307673Z"
    }
   },
   "cell_type": "code",
   "source": [
    "class_labels = os.listdir(config['data']['birdclef_2025'] + '/train_audio')\n",
    "num_classes = len(class_labels)"
   ],
   "id": "84b0ade568fcaf50",
   "outputs": [],
   "execution_count": 10
  },
  {
   "metadata": {
    "trusted": true,
    "execution": {
     "iopub.status.busy": "2025-03-20T08:17:27.257039Z",
     "iopub.execute_input": "2025-03-20T08:17:27.257466Z",
     "iopub.status.idle": "2025-03-20T08:17:27.263954Z",
     "shell.execute_reply.started": "2025-03-20T08:17:27.257391Z",
     "shell.execute_reply": "2025-03-20T08:17:27.262884Z"
    },
    "ExecuteTime": {
     "end_time": "2025-03-20T11:35:06.366633Z",
     "start_time": "2025-03-20T11:35:06.361004Z"
    }
   },
   "cell_type": "code",
   "source": "num_classes",
   "id": "841581e80c14c183",
   "outputs": [
    {
     "data": {
      "text/plain": [
       "206"
      ]
     },
     "execution_count": 11,
     "metadata": {},
     "output_type": "execute_result"
    }
   ],
   "execution_count": 11
  },
  {
   "metadata": {},
   "cell_type": "markdown",
   "source": "## Process test dataset",
   "id": "f4b246b0739ff33a"
  },
  {
   "metadata": {
    "ExecuteTime": {
     "end_time": "2025-03-20T11:37:21.324803Z",
     "start_time": "2025-03-20T11:35:06.492260Z"
    }
   },
   "cell_type": "code",
   "source": [
    "chunks_size = int(config['testing']['chunks_size'])\n",
    "\n",
    "test_segment_files_dict = {}\n",
    "\n",
    "for i in range(len(test_files)):\n",
    "    test_segment_files_dict[i] = []\n",
    "\n",
    "def process_file(file, index):\n",
    "    test_filename = file.split('.')[0]\n",
    "    sig, sr = torchaudio.load(config['data']['birdclef_2025'] + test_dir + '/' + file, backend=config['audio_preprocessing']['backend'])\n",
    "    chunks = torch.chunk(sig, chunks_size, dim=1)\n",
    "    for i, chunk in enumerate(chunks):\n",
    "        test_segment_filename = config['testing']['test_audio'] + '/' + test_filename + '_' + str((i+1) * int(config['audio_params']['wav_sec'])) + '.ogg'\n",
    "        torchaudio.save(test_segment_filename, chunk, sr, backend=config['audio_preprocessing']['backend'])\n",
    "        test_segment_files_dict[index].append(test_segment_filename.split('/')[-1])\n",
    "\n",
    "# Use ThreadPoolExecutor to parallelize the processing\n",
    "with concurrent.futures.ThreadPoolExecutor(max_workers=10) as executor:\n",
    "    executor.map(process_file, test_files, [i for i in range(len(test_files))])"
   ],
   "id": "e39d93f7fbb3ae09",
   "outputs": [],
   "execution_count": 12
  },
  {
   "metadata": {
    "ExecuteTime": {
     "end_time": "2025-03-20T11:37:21.342005Z",
     "start_time": "2025-03-20T11:37:21.338530Z"
    }
   },
   "cell_type": "code",
   "source": [
    "test_segment_files = []\n",
    "\n",
    "for i in range(len(test_files)):\n",
    "    test_segment_files.extend(test_segment_files_dict[i])"
   ],
   "id": "b2fae7d67eee04a5",
   "outputs": [],
   "execution_count": 13
  },
  {
   "metadata": {
    "ExecuteTime": {
     "end_time": "2025-03-20T11:37:21.413226Z",
     "start_time": "2025-03-20T11:37:21.388750Z"
    }
   },
   "cell_type": "code",
   "source": [
    "if len(test_segment_files) > 0:\n",
    "    sig, sr = torchaudio.load(config['testing']['test_audio'] + '/' + test_segment_files[0])\n",
    "    print(sig.shape, sr)"
   ],
   "id": "4c2949a78a6f4f68",
   "outputs": [
    {
     "name": "stdout",
     "output_type": "stream",
     "text": [
      "torch.Size([1, 160000]) 32000\n"
     ]
    }
   ],
   "execution_count": 14
  },
  {
   "metadata": {
    "ExecuteTime": {
     "end_time": "2025-03-20T11:37:21.453494Z",
     "start_time": "2025-03-20T11:37:21.449467Z"
    }
   },
   "cell_type": "code",
   "source": "test_df = pd.DataFrame(test_segment_files, columns=['row_id'])",
   "id": "5cef9695df138df6",
   "outputs": [],
   "execution_count": 15
  },
  {
   "metadata": {
    "ExecuteTime": {
     "end_time": "2025-03-20T11:37:21.516308Z",
     "start_time": "2025-03-20T11:37:21.509447Z"
    }
   },
   "cell_type": "code",
   "source": "test_df.count()",
   "id": "d274eff60bdf3ce3",
   "outputs": [
    {
     "data": {
      "text/plain": [
       "row_id    8400\n",
       "dtype: int64"
      ]
     },
     "execution_count": 16,
     "metadata": {},
     "output_type": "execute_result"
    }
   ],
   "execution_count": 16
  },
  {
   "metadata": {
    "ExecuteTime": {
     "end_time": "2025-03-20T11:37:21.598982Z",
     "start_time": "2025-03-20T11:37:21.593702Z"
    }
   },
   "cell_type": "code",
   "source": "test_df.head()",
   "id": "c988d434c7909a54",
   "outputs": [
    {
     "data": {
      "text/plain": [
       "                       row_id\n",
       "0   H02_20230420_074000_5.ogg\n",
       "1  H02_20230420_074000_10.ogg\n",
       "2  H02_20230420_074000_15.ogg\n",
       "3  H02_20230420_074000_20.ogg\n",
       "4  H02_20230420_074000_25.ogg"
      ],
      "text/html": [
       "<div>\n",
       "<style scoped>\n",
       "    .dataframe tbody tr th:only-of-type {\n",
       "        vertical-align: middle;\n",
       "    }\n",
       "\n",
       "    .dataframe tbody tr th {\n",
       "        vertical-align: top;\n",
       "    }\n",
       "\n",
       "    .dataframe thead th {\n",
       "        text-align: right;\n",
       "    }\n",
       "</style>\n",
       "<table border=\"1\" class=\"dataframe\">\n",
       "  <thead>\n",
       "    <tr style=\"text-align: right;\">\n",
       "      <th></th>\n",
       "      <th>row_id</th>\n",
       "    </tr>\n",
       "  </thead>\n",
       "  <tbody>\n",
       "    <tr>\n",
       "      <th>0</th>\n",
       "      <td>H02_20230420_074000_5.ogg</td>\n",
       "    </tr>\n",
       "    <tr>\n",
       "      <th>1</th>\n",
       "      <td>H02_20230420_074000_10.ogg</td>\n",
       "    </tr>\n",
       "    <tr>\n",
       "      <th>2</th>\n",
       "      <td>H02_20230420_074000_15.ogg</td>\n",
       "    </tr>\n",
       "    <tr>\n",
       "      <th>3</th>\n",
       "      <td>H02_20230420_074000_20.ogg</td>\n",
       "    </tr>\n",
       "    <tr>\n",
       "      <th>4</th>\n",
       "      <td>H02_20230420_074000_25.ogg</td>\n",
       "    </tr>\n",
       "  </tbody>\n",
       "</table>\n",
       "</div>"
      ]
     },
     "execution_count": 17,
     "metadata": {},
     "output_type": "execute_result"
    }
   ],
   "execution_count": 17
  },
  {
   "metadata": {},
   "cell_type": "markdown",
   "source": "## Load model",
   "id": "ba35d379f8c83c43"
  },
  {
   "metadata": {
    "trusted": true,
    "execution": {
     "iopub.status.busy": "2025-03-20T08:17:28.861945Z",
     "iopub.execute_input": "2025-03-20T08:17:28.862362Z",
     "iopub.status.idle": "2025-03-20T08:17:29.942200Z",
     "shell.execute_reply.started": "2025-03-20T08:17:28.862327Z",
     "shell.execute_reply": "2025-03-20T08:17:29.941165Z"
    },
    "ExecuteTime": {
     "end_time": "2025-03-20T11:37:24.517351Z",
     "start_time": "2025-03-20T11:37:21.648946Z"
    }
   },
   "cell_type": "code",
   "source": [
    "checkpoint_path = config['model']['model_path'] + '/' + config['model']['model_desc'] + '-' + config['model']['model_ver'] + '-best.ckpt'\n",
    "model = BirdclefModel.load_from_checkpoint(checkpoint_path, class_labels=class_labels)\n",
    "model = model.to(torch.float32)\n",
    "model = model.to('cpu')\n",
    "model.eval()"
   ],
   "id": "bc0b6f28ce21c399",
   "outputs": [
    {
     "data": {
      "text/plain": [
       "BirdclefModel(\n",
       "  (model): ResNet(\n",
       "    (conv1): Conv2d(3, 64, kernel_size=(7, 7), stride=(2, 2), padding=(3, 3), bias=False)\n",
       "    (bn1): BatchNorm2d(64, eps=1e-05, momentum=0.1, affine=True, track_running_stats=True)\n",
       "    (relu): ReLU(inplace=True)\n",
       "    (maxpool): MaxPool2d(kernel_size=3, stride=2, padding=1, dilation=1, ceil_mode=False)\n",
       "    (layer1): Sequential(\n",
       "      (0): BasicBlock(\n",
       "        (conv1): Conv2d(64, 64, kernel_size=(3, 3), stride=(1, 1), padding=(1, 1), bias=False)\n",
       "        (bn1): BatchNorm2d(64, eps=1e-05, momentum=0.1, affine=True, track_running_stats=True)\n",
       "        (relu): ReLU(inplace=True)\n",
       "        (conv2): Conv2d(64, 64, kernel_size=(3, 3), stride=(1, 1), padding=(1, 1), bias=False)\n",
       "        (bn2): BatchNorm2d(64, eps=1e-05, momentum=0.1, affine=True, track_running_stats=True)\n",
       "      )\n",
       "      (1): BasicBlock(\n",
       "        (conv1): Conv2d(64, 64, kernel_size=(3, 3), stride=(1, 1), padding=(1, 1), bias=False)\n",
       "        (bn1): BatchNorm2d(64, eps=1e-05, momentum=0.1, affine=True, track_running_stats=True)\n",
       "        (relu): ReLU(inplace=True)\n",
       "        (conv2): Conv2d(64, 64, kernel_size=(3, 3), stride=(1, 1), padding=(1, 1), bias=False)\n",
       "        (bn2): BatchNorm2d(64, eps=1e-05, momentum=0.1, affine=True, track_running_stats=True)\n",
       "      )\n",
       "      (2): BasicBlock(\n",
       "        (conv1): Conv2d(64, 64, kernel_size=(3, 3), stride=(1, 1), padding=(1, 1), bias=False)\n",
       "        (bn1): BatchNorm2d(64, eps=1e-05, momentum=0.1, affine=True, track_running_stats=True)\n",
       "        (relu): ReLU(inplace=True)\n",
       "        (conv2): Conv2d(64, 64, kernel_size=(3, 3), stride=(1, 1), padding=(1, 1), bias=False)\n",
       "        (bn2): BatchNorm2d(64, eps=1e-05, momentum=0.1, affine=True, track_running_stats=True)\n",
       "      )\n",
       "    )\n",
       "    (layer2): Sequential(\n",
       "      (0): BasicBlock(\n",
       "        (conv1): Conv2d(64, 128, kernel_size=(3, 3), stride=(2, 2), padding=(1, 1), bias=False)\n",
       "        (bn1): BatchNorm2d(128, eps=1e-05, momentum=0.1, affine=True, track_running_stats=True)\n",
       "        (relu): ReLU(inplace=True)\n",
       "        (conv2): Conv2d(128, 128, kernel_size=(3, 3), stride=(1, 1), padding=(1, 1), bias=False)\n",
       "        (bn2): BatchNorm2d(128, eps=1e-05, momentum=0.1, affine=True, track_running_stats=True)\n",
       "        (downsample): Sequential(\n",
       "          (0): Conv2d(64, 128, kernel_size=(1, 1), stride=(2, 2), bias=False)\n",
       "          (1): BatchNorm2d(128, eps=1e-05, momentum=0.1, affine=True, track_running_stats=True)\n",
       "        )\n",
       "      )\n",
       "      (1): BasicBlock(\n",
       "        (conv1): Conv2d(128, 128, kernel_size=(3, 3), stride=(1, 1), padding=(1, 1), bias=False)\n",
       "        (bn1): BatchNorm2d(128, eps=1e-05, momentum=0.1, affine=True, track_running_stats=True)\n",
       "        (relu): ReLU(inplace=True)\n",
       "        (conv2): Conv2d(128, 128, kernel_size=(3, 3), stride=(1, 1), padding=(1, 1), bias=False)\n",
       "        (bn2): BatchNorm2d(128, eps=1e-05, momentum=0.1, affine=True, track_running_stats=True)\n",
       "      )\n",
       "      (2): BasicBlock(\n",
       "        (conv1): Conv2d(128, 128, kernel_size=(3, 3), stride=(1, 1), padding=(1, 1), bias=False)\n",
       "        (bn1): BatchNorm2d(128, eps=1e-05, momentum=0.1, affine=True, track_running_stats=True)\n",
       "        (relu): ReLU(inplace=True)\n",
       "        (conv2): Conv2d(128, 128, kernel_size=(3, 3), stride=(1, 1), padding=(1, 1), bias=False)\n",
       "        (bn2): BatchNorm2d(128, eps=1e-05, momentum=0.1, affine=True, track_running_stats=True)\n",
       "      )\n",
       "      (3): BasicBlock(\n",
       "        (conv1): Conv2d(128, 128, kernel_size=(3, 3), stride=(1, 1), padding=(1, 1), bias=False)\n",
       "        (bn1): BatchNorm2d(128, eps=1e-05, momentum=0.1, affine=True, track_running_stats=True)\n",
       "        (relu): ReLU(inplace=True)\n",
       "        (conv2): Conv2d(128, 128, kernel_size=(3, 3), stride=(1, 1), padding=(1, 1), bias=False)\n",
       "        (bn2): BatchNorm2d(128, eps=1e-05, momentum=0.1, affine=True, track_running_stats=True)\n",
       "      )\n",
       "    )\n",
       "    (layer3): Sequential(\n",
       "      (0): BasicBlock(\n",
       "        (conv1): Conv2d(128, 256, kernel_size=(3, 3), stride=(2, 2), padding=(1, 1), bias=False)\n",
       "        (bn1): BatchNorm2d(256, eps=1e-05, momentum=0.1, affine=True, track_running_stats=True)\n",
       "        (relu): ReLU(inplace=True)\n",
       "        (conv2): Conv2d(256, 256, kernel_size=(3, 3), stride=(1, 1), padding=(1, 1), bias=False)\n",
       "        (bn2): BatchNorm2d(256, eps=1e-05, momentum=0.1, affine=True, track_running_stats=True)\n",
       "        (downsample): Sequential(\n",
       "          (0): Conv2d(128, 256, kernel_size=(1, 1), stride=(2, 2), bias=False)\n",
       "          (1): BatchNorm2d(256, eps=1e-05, momentum=0.1, affine=True, track_running_stats=True)\n",
       "        )\n",
       "      )\n",
       "      (1): BasicBlock(\n",
       "        (conv1): Conv2d(256, 256, kernel_size=(3, 3), stride=(1, 1), padding=(1, 1), bias=False)\n",
       "        (bn1): BatchNorm2d(256, eps=1e-05, momentum=0.1, affine=True, track_running_stats=True)\n",
       "        (relu): ReLU(inplace=True)\n",
       "        (conv2): Conv2d(256, 256, kernel_size=(3, 3), stride=(1, 1), padding=(1, 1), bias=False)\n",
       "        (bn2): BatchNorm2d(256, eps=1e-05, momentum=0.1, affine=True, track_running_stats=True)\n",
       "      )\n",
       "      (2): BasicBlock(\n",
       "        (conv1): Conv2d(256, 256, kernel_size=(3, 3), stride=(1, 1), padding=(1, 1), bias=False)\n",
       "        (bn1): BatchNorm2d(256, eps=1e-05, momentum=0.1, affine=True, track_running_stats=True)\n",
       "        (relu): ReLU(inplace=True)\n",
       "        (conv2): Conv2d(256, 256, kernel_size=(3, 3), stride=(1, 1), padding=(1, 1), bias=False)\n",
       "        (bn2): BatchNorm2d(256, eps=1e-05, momentum=0.1, affine=True, track_running_stats=True)\n",
       "      )\n",
       "      (3): BasicBlock(\n",
       "        (conv1): Conv2d(256, 256, kernel_size=(3, 3), stride=(1, 1), padding=(1, 1), bias=False)\n",
       "        (bn1): BatchNorm2d(256, eps=1e-05, momentum=0.1, affine=True, track_running_stats=True)\n",
       "        (relu): ReLU(inplace=True)\n",
       "        (conv2): Conv2d(256, 256, kernel_size=(3, 3), stride=(1, 1), padding=(1, 1), bias=False)\n",
       "        (bn2): BatchNorm2d(256, eps=1e-05, momentum=0.1, affine=True, track_running_stats=True)\n",
       "      )\n",
       "      (4): BasicBlock(\n",
       "        (conv1): Conv2d(256, 256, kernel_size=(3, 3), stride=(1, 1), padding=(1, 1), bias=False)\n",
       "        (bn1): BatchNorm2d(256, eps=1e-05, momentum=0.1, affine=True, track_running_stats=True)\n",
       "        (relu): ReLU(inplace=True)\n",
       "        (conv2): Conv2d(256, 256, kernel_size=(3, 3), stride=(1, 1), padding=(1, 1), bias=False)\n",
       "        (bn2): BatchNorm2d(256, eps=1e-05, momentum=0.1, affine=True, track_running_stats=True)\n",
       "      )\n",
       "      (5): BasicBlock(\n",
       "        (conv1): Conv2d(256, 256, kernel_size=(3, 3), stride=(1, 1), padding=(1, 1), bias=False)\n",
       "        (bn1): BatchNorm2d(256, eps=1e-05, momentum=0.1, affine=True, track_running_stats=True)\n",
       "        (relu): ReLU(inplace=True)\n",
       "        (conv2): Conv2d(256, 256, kernel_size=(3, 3), stride=(1, 1), padding=(1, 1), bias=False)\n",
       "        (bn2): BatchNorm2d(256, eps=1e-05, momentum=0.1, affine=True, track_running_stats=True)\n",
       "      )\n",
       "    )\n",
       "    (layer4): Sequential(\n",
       "      (0): BasicBlock(\n",
       "        (conv1): Conv2d(256, 512, kernel_size=(3, 3), stride=(2, 2), padding=(1, 1), bias=False)\n",
       "        (bn1): BatchNorm2d(512, eps=1e-05, momentum=0.1, affine=True, track_running_stats=True)\n",
       "        (relu): ReLU(inplace=True)\n",
       "        (conv2): Conv2d(512, 512, kernel_size=(3, 3), stride=(1, 1), padding=(1, 1), bias=False)\n",
       "        (bn2): BatchNorm2d(512, eps=1e-05, momentum=0.1, affine=True, track_running_stats=True)\n",
       "        (downsample): Sequential(\n",
       "          (0): Conv2d(256, 512, kernel_size=(1, 1), stride=(2, 2), bias=False)\n",
       "          (1): BatchNorm2d(512, eps=1e-05, momentum=0.1, affine=True, track_running_stats=True)\n",
       "        )\n",
       "      )\n",
       "      (1): BasicBlock(\n",
       "        (conv1): Conv2d(512, 512, kernel_size=(3, 3), stride=(1, 1), padding=(1, 1), bias=False)\n",
       "        (bn1): BatchNorm2d(512, eps=1e-05, momentum=0.1, affine=True, track_running_stats=True)\n",
       "        (relu): ReLU(inplace=True)\n",
       "        (conv2): Conv2d(512, 512, kernel_size=(3, 3), stride=(1, 1), padding=(1, 1), bias=False)\n",
       "        (bn2): BatchNorm2d(512, eps=1e-05, momentum=0.1, affine=True, track_running_stats=True)\n",
       "      )\n",
       "      (2): BasicBlock(\n",
       "        (conv1): Conv2d(512, 512, kernel_size=(3, 3), stride=(1, 1), padding=(1, 1), bias=False)\n",
       "        (bn1): BatchNorm2d(512, eps=1e-05, momentum=0.1, affine=True, track_running_stats=True)\n",
       "        (relu): ReLU(inplace=True)\n",
       "        (conv2): Conv2d(512, 512, kernel_size=(3, 3), stride=(1, 1), padding=(1, 1), bias=False)\n",
       "        (bn2): BatchNorm2d(512, eps=1e-05, momentum=0.1, affine=True, track_running_stats=True)\n",
       "      )\n",
       "    )\n",
       "    (avgpool): AdaptiveAvgPool2d(output_size=(1, 1))\n",
       "    (fc): Linear(in_features=512, out_features=206, bias=True)\n",
       "  )\n",
       ")"
      ]
     },
     "execution_count": 18,
     "metadata": {},
     "output_type": "execute_result"
    }
   ],
   "execution_count": 18
  },
  {
   "metadata": {},
   "cell_type": "markdown",
   "source": "## Make predictions",
   "id": "1f3c28267ea81c7d"
  },
  {
   "metadata": {
    "ExecuteTime": {
     "end_time": "2025-03-20T11:58:17.822518Z",
     "start_time": "2025-03-20T11:58:17.817930Z"
    }
   },
   "cell_type": "code",
   "source": [
    "test_dataset = BirdclefTestDataset(test_df)\n",
    "test_loader = DataLoader(test_dataset, batch_size=int(config['testing']['batch_size']), shuffle=False, num_workers=int(config['testing']['num_workers']), drop_last=False)"
   ],
   "id": "436133c668d3f020",
   "outputs": [],
   "execution_count": 28
  },
  {
   "metadata": {
    "ExecuteTime": {
     "end_time": "2025-03-20T12:00:48.078590Z",
     "start_time": "2025-03-20T11:58:18.303429Z"
    }
   },
   "cell_type": "code",
   "source": [
    "pred = {'row_id': []}\n",
    "for species_code in class_labels:\n",
    "    pred[species_code] = []\n",
    "\n",
    "with torch.no_grad():\n",
    "    for mel_spec, filename in tqdm(test_loader):\n",
    "        preds = model(mel_spec)\n",
    "        preds = torch.softmax(preds, dim=1).cpu().numpy()\n",
    "\n",
    "        for file, prediction in zip(filename, preds):\n",
    "            file_name = file.split('.')[0]\n",
    "            pred['row_id'].append(file_name)\n",
    "\n",
    "            for i, label in enumerate(class_labels):\n",
    "                pred[label].append(prediction[i])"
   ],
   "id": "648cc96bbad45baa",
   "outputs": [
    {
     "name": "stderr",
     "output_type": "stream",
     "text": [
      "100%|██████████| 140/140 [02:29<00:00,  1.07s/it]\n"
     ]
    }
   ],
   "execution_count": 29
  },
  {
   "metadata": {},
   "cell_type": "markdown",
   "source": "## Prepare submission file",
   "id": "7fe7ddf4c2e464f0"
  },
  {
   "metadata": {
    "ExecuteTime": {
     "end_time": "2025-03-20T12:00:48.613678Z",
     "start_time": "2025-03-20T12:00:48.123738Z"
    }
   },
   "cell_type": "code",
   "source": "submission = pd.DataFrame(pred)",
   "id": "23fda23f53f2d6d4",
   "outputs": [],
   "execution_count": 30
  },
  {
   "metadata": {
    "ExecuteTime": {
     "end_time": "2025-03-20T12:00:48.626394Z",
     "start_time": "2025-03-20T12:00:48.621360Z"
    }
   },
   "cell_type": "code",
   "source": "submission.shape",
   "id": "9efbdb5e802c16e9",
   "outputs": [
    {
     "data": {
      "text/plain": [
       "(8400, 207)"
      ]
     },
     "execution_count": 31,
     "metadata": {},
     "output_type": "execute_result"
    }
   ],
   "execution_count": 31
  },
  {
   "metadata": {
    "ExecuteTime": {
     "end_time": "2025-03-20T12:00:48.694236Z",
     "start_time": "2025-03-20T12:00:48.677499Z"
    }
   },
   "cell_type": "code",
   "source": "submission.head()",
   "id": "20adc145a4739116",
   "outputs": [
    {
     "data": {
      "text/plain": [
       "                   row_id   1139490   1192948   1194042    126247   1346504  \\\n",
       "0   H02_20230420_074000_5  0.002915  0.000015  0.000024  0.011482  0.001628   \n",
       "1  H02_20230420_074000_10  0.001721  0.000007  0.000023  0.024109  0.000795   \n",
       "2  H02_20230420_074000_15  0.000651  0.000003  0.000027  0.009436  0.000490   \n",
       "3  H02_20230420_074000_20  0.001349  0.000007  0.000006  0.001191  0.000207   \n",
       "4  H02_20230420_074000_25  0.001924  0.000013  0.000018  0.002331  0.000550   \n",
       "\n",
       "     134933    135045   1462711   1462737  ...   yebfly1   yebsee1   yecspi2  \\\n",
       "0  0.000603  0.001692  0.000095  0.000517  ...  0.001842  0.006490  0.000541   \n",
       "1  0.000323  0.000913  0.000034  0.000196  ...  0.000775  0.003544  0.000221   \n",
       "2  0.000255  0.001705  0.000035  0.000242  ...  0.001407  0.003517  0.000491   \n",
       "3  0.000064  0.002938  0.000052  0.000156  ...  0.001517  0.003161  0.000129   \n",
       "4  0.000882  0.002103  0.000157  0.000638  ...  0.003094  0.009516  0.000388   \n",
       "\n",
       "    yectyr1   yehbla2   yehcar1   yelori1   yeofly1   yercac1    ywcpar  \n",
       "0  0.001558  0.000032  0.000701  0.000251  0.002829  0.000311  0.001703  \n",
       "1  0.000571  0.000015  0.000481  0.000095  0.001118  0.000153  0.001015  \n",
       "2  0.000705  0.000043  0.001211  0.000504  0.002381  0.000453  0.002101  \n",
       "3  0.000762  0.000004  0.000623  0.000148  0.002991  0.000374  0.001109  \n",
       "4  0.001889  0.000025  0.000863  0.000297  0.003366  0.000499  0.002599  \n",
       "\n",
       "[5 rows x 207 columns]"
      ],
      "text/html": [
       "<div>\n",
       "<style scoped>\n",
       "    .dataframe tbody tr th:only-of-type {\n",
       "        vertical-align: middle;\n",
       "    }\n",
       "\n",
       "    .dataframe tbody tr th {\n",
       "        vertical-align: top;\n",
       "    }\n",
       "\n",
       "    .dataframe thead th {\n",
       "        text-align: right;\n",
       "    }\n",
       "</style>\n",
       "<table border=\"1\" class=\"dataframe\">\n",
       "  <thead>\n",
       "    <tr style=\"text-align: right;\">\n",
       "      <th></th>\n",
       "      <th>row_id</th>\n",
       "      <th>1139490</th>\n",
       "      <th>1192948</th>\n",
       "      <th>1194042</th>\n",
       "      <th>126247</th>\n",
       "      <th>1346504</th>\n",
       "      <th>134933</th>\n",
       "      <th>135045</th>\n",
       "      <th>1462711</th>\n",
       "      <th>1462737</th>\n",
       "      <th>...</th>\n",
       "      <th>yebfly1</th>\n",
       "      <th>yebsee1</th>\n",
       "      <th>yecspi2</th>\n",
       "      <th>yectyr1</th>\n",
       "      <th>yehbla2</th>\n",
       "      <th>yehcar1</th>\n",
       "      <th>yelori1</th>\n",
       "      <th>yeofly1</th>\n",
       "      <th>yercac1</th>\n",
       "      <th>ywcpar</th>\n",
       "    </tr>\n",
       "  </thead>\n",
       "  <tbody>\n",
       "    <tr>\n",
       "      <th>0</th>\n",
       "      <td>H02_20230420_074000_5</td>\n",
       "      <td>0.002915</td>\n",
       "      <td>0.000015</td>\n",
       "      <td>0.000024</td>\n",
       "      <td>0.011482</td>\n",
       "      <td>0.001628</td>\n",
       "      <td>0.000603</td>\n",
       "      <td>0.001692</td>\n",
       "      <td>0.000095</td>\n",
       "      <td>0.000517</td>\n",
       "      <td>...</td>\n",
       "      <td>0.001842</td>\n",
       "      <td>0.006490</td>\n",
       "      <td>0.000541</td>\n",
       "      <td>0.001558</td>\n",
       "      <td>0.000032</td>\n",
       "      <td>0.000701</td>\n",
       "      <td>0.000251</td>\n",
       "      <td>0.002829</td>\n",
       "      <td>0.000311</td>\n",
       "      <td>0.001703</td>\n",
       "    </tr>\n",
       "    <tr>\n",
       "      <th>1</th>\n",
       "      <td>H02_20230420_074000_10</td>\n",
       "      <td>0.001721</td>\n",
       "      <td>0.000007</td>\n",
       "      <td>0.000023</td>\n",
       "      <td>0.024109</td>\n",
       "      <td>0.000795</td>\n",
       "      <td>0.000323</td>\n",
       "      <td>0.000913</td>\n",
       "      <td>0.000034</td>\n",
       "      <td>0.000196</td>\n",
       "      <td>...</td>\n",
       "      <td>0.000775</td>\n",
       "      <td>0.003544</td>\n",
       "      <td>0.000221</td>\n",
       "      <td>0.000571</td>\n",
       "      <td>0.000015</td>\n",
       "      <td>0.000481</td>\n",
       "      <td>0.000095</td>\n",
       "      <td>0.001118</td>\n",
       "      <td>0.000153</td>\n",
       "      <td>0.001015</td>\n",
       "    </tr>\n",
       "    <tr>\n",
       "      <th>2</th>\n",
       "      <td>H02_20230420_074000_15</td>\n",
       "      <td>0.000651</td>\n",
       "      <td>0.000003</td>\n",
       "      <td>0.000027</td>\n",
       "      <td>0.009436</td>\n",
       "      <td>0.000490</td>\n",
       "      <td>0.000255</td>\n",
       "      <td>0.001705</td>\n",
       "      <td>0.000035</td>\n",
       "      <td>0.000242</td>\n",
       "      <td>...</td>\n",
       "      <td>0.001407</td>\n",
       "      <td>0.003517</td>\n",
       "      <td>0.000491</td>\n",
       "      <td>0.000705</td>\n",
       "      <td>0.000043</td>\n",
       "      <td>0.001211</td>\n",
       "      <td>0.000504</td>\n",
       "      <td>0.002381</td>\n",
       "      <td>0.000453</td>\n",
       "      <td>0.002101</td>\n",
       "    </tr>\n",
       "    <tr>\n",
       "      <th>3</th>\n",
       "      <td>H02_20230420_074000_20</td>\n",
       "      <td>0.001349</td>\n",
       "      <td>0.000007</td>\n",
       "      <td>0.000006</td>\n",
       "      <td>0.001191</td>\n",
       "      <td>0.000207</td>\n",
       "      <td>0.000064</td>\n",
       "      <td>0.002938</td>\n",
       "      <td>0.000052</td>\n",
       "      <td>0.000156</td>\n",
       "      <td>...</td>\n",
       "      <td>0.001517</td>\n",
       "      <td>0.003161</td>\n",
       "      <td>0.000129</td>\n",
       "      <td>0.000762</td>\n",
       "      <td>0.000004</td>\n",
       "      <td>0.000623</td>\n",
       "      <td>0.000148</td>\n",
       "      <td>0.002991</td>\n",
       "      <td>0.000374</td>\n",
       "      <td>0.001109</td>\n",
       "    </tr>\n",
       "    <tr>\n",
       "      <th>4</th>\n",
       "      <td>H02_20230420_074000_25</td>\n",
       "      <td>0.001924</td>\n",
       "      <td>0.000013</td>\n",
       "      <td>0.000018</td>\n",
       "      <td>0.002331</td>\n",
       "      <td>0.000550</td>\n",
       "      <td>0.000882</td>\n",
       "      <td>0.002103</td>\n",
       "      <td>0.000157</td>\n",
       "      <td>0.000638</td>\n",
       "      <td>...</td>\n",
       "      <td>0.003094</td>\n",
       "      <td>0.009516</td>\n",
       "      <td>0.000388</td>\n",
       "      <td>0.001889</td>\n",
       "      <td>0.000025</td>\n",
       "      <td>0.000863</td>\n",
       "      <td>0.000297</td>\n",
       "      <td>0.003366</td>\n",
       "      <td>0.000499</td>\n",
       "      <td>0.002599</td>\n",
       "    </tr>\n",
       "  </tbody>\n",
       "</table>\n",
       "<p>5 rows × 207 columns</p>\n",
       "</div>"
      ]
     },
     "execution_count": 32,
     "metadata": {},
     "output_type": "execute_result"
    }
   ],
   "execution_count": 32
  },
  {
   "metadata": {
    "ExecuteTime": {
     "end_time": "2025-03-20T11:41:25.534967Z",
     "start_time": "2025-03-20T11:41:23.432551Z"
    }
   },
   "cell_type": "code",
   "source": "submission.to_csv(config['testing']['submission_path'] + '/' + config['model']['model_desc'] + '-' + config['model']['model_ver'] + '-submission.csv', index=False)",
   "id": "936d3927426d0792",
   "outputs": [],
   "execution_count": 27
  }
 ],
 "metadata": {
  "kernelspec": {
   "display_name": "Python 3",
   "language": "python",
   "name": "python3"
  },
  "language_info": {
   "codemirror_mode": {
    "name": "ipython",
    "version": 2
   },
   "file_extension": ".py",
   "mimetype": "text/x-python",
   "name": "python",
   "nbconvert_exporter": "python",
   "pygments_lexer": "ipython2",
   "version": "2.7.6"
  }
 },
 "nbformat": 4,
 "nbformat_minor": 5
}
