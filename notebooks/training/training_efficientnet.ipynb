{
 "cells": [
  {
   "metadata": {},
   "cell_type": "markdown",
   "source": "# BirdClef+ 2025 Training Baseline",
   "id": "913b27c511c94e66"
  },
  {
   "metadata": {},
   "cell_type": "markdown",
   "source": "## Import libraries",
   "id": "d9d8c62e255ef309"
  },
  {
   "metadata": {
    "collapsed": true,
    "ExecuteTime": {
     "end_time": "2025-03-25T18:31:02.091934Z",
     "start_time": "2025-03-25T18:30:55.793624Z"
    }
   },
   "cell_type": "code",
   "source": [
    "import os\n",
    "import time\n",
    "import random\n",
    "import configparser\n",
    "from pathlib import Path\n",
    "from tqdm import tqdm\n",
    "\n",
    "import numpy as np\n",
    "import pandas as pd\n",
    "from sklearn.model_selection import train_test_split\n",
    "\n",
    "import torch\n",
    "import torchaudio\n",
    "import torchaudio.transforms as at\n",
    "from torch.utils.data import Dataset, DataLoader\n",
    "import torch.nn as nn\n",
    "import pytorch_lightning as pl\n",
    "from pytorch_lightning.loggers import WandbLogger\n",
    "from pytorch_lightning.callbacks import ModelCheckpoint, EarlyStopping\n",
    "\n",
    "import timm\n",
    "import wandb\n",
    "\n",
    "from score.metric import score\n",
    "\n",
    "import warnings\n",
    "\n",
    "warnings.filterwarnings('ignore')"
   ],
   "id": "cc0ff1232dd931df",
   "outputs": [],
   "execution_count": 1
  },
  {
   "metadata": {},
   "cell_type": "markdown",
   "source": "## Config",
   "id": "50bdcb479ef6a3bf"
  },
  {
   "metadata": {
    "ExecuteTime": {
     "end_time": "2025-03-25T18:31:02.101996Z",
     "start_time": "2025-03-25T18:31:02.098142Z"
    }
   },
   "cell_type": "code",
   "source": "config = configparser.ConfigParser()",
   "id": "d7e13b37479cd1f",
   "outputs": [],
   "execution_count": 2
  },
  {
   "metadata": {
    "ExecuteTime": {
     "end_time": "2025-03-25T18:31:03.056887Z",
     "start_time": "2025-03-25T18:31:02.264798Z"
    }
   },
   "cell_type": "code",
   "source": [
    "config['project'] = {\n",
    "    'name': 'birdclef_2025',\n",
    "    'project_path': '/mnt/d/Projects_D/BirdCLEF_2025'\n",
    "}\n",
    "\n",
    "config['data'] = {\n",
    "    'data_path': config['project']['project_path'] + '/data',\n",
    "    'birdclef_2025': config['project']['project_path'] + '/data/birdclef_2025',\n",
    "    'processed_audio':config['project']['project_path'] + '/data/audio_processed',\n",
    "}\n",
    "\n",
    "config['audio_params'] = {\n",
    "    'wav_sec': 5,\n",
    "    'sample_rate': 32000,\n",
    "}\n",
    "\n",
    "config['audio_preprocessing'] = {\n",
    "    'min_segment': 32000 * 5,\n",
    "    'backend': 'soundfile'\n",
    "}\n",
    "\n",
    "config['mel_spectrogram'] = {\n",
    "    'n_fft': 1024,\n",
    "    'win_length': 1024,\n",
    "    'hop_length': 512,\n",
    "    'n_mels': 128,\n",
    "    'f_min': 50,\n",
    "    'f_max': 14000,\n",
    "    'mel_scale': 'htk',\n",
    "}\n",
    "\n",
    "config['model'] = {\n",
    "    'model_backbone': 'efficientnet',\n",
    "    'model_desc': 'efficientnet_b0',\n",
    "    'model_ver': 'v3',\n",
    "    'model_path': config['project']['project_path'] + '/models'\n",
    "}\n",
    "\n",
    "config['notebook_mode'] = {\n",
    "    'mode': 'train'\n",
    "}\n",
    "\n",
    "config['training'] = {\n",
    "    'processed_audio': config['data']['processed_audio'] + '/v1',\n",
    "    'device': torch.device('cuda' if torch.cuda.is_available() else 'cpu'),\n",
    "    'epochs': 20,\n",
    "    'batch_size': 40,\n",
    "    'num_workers': 8,\n",
    "    'learning_rate': 5e-4,\n",
    "    'min_lr': 1e-6,\n",
    "    'optimizer': 'adam',\n",
    "    'scheduler': 'reducelronplateau',\n",
    "    'criterion': 'bce',\n",
    "    'weight_decay': 1e-5,\n",
    "    't_max': 10\n",
    "}"
   ],
   "id": "d7f9e307fe8fe04",
   "outputs": [],
   "execution_count": 3
  },
  {
   "metadata": {},
   "cell_type": "markdown",
   "source": "## WandB",
   "id": "bba20404b155089"
  },
  {
   "metadata": {
    "ExecuteTime": {
     "end_time": "2025-03-25T18:31:03.071397Z",
     "start_time": "2025-03-25T18:31:03.065548Z"
    }
   },
   "cell_type": "code",
   "source": "config['project']['project_path'] + '/wandb'",
   "id": "b0d90e75281deb08",
   "outputs": [
    {
     "data": {
      "text/plain": [
       "'/mnt/d/Projects_D/BirdCLEF_2025/wandb'"
      ]
     },
     "execution_count": 4,
     "metadata": {},
     "output_type": "execute_result"
    }
   ],
   "execution_count": 4
  },
  {
   "metadata": {
    "ExecuteTime": {
     "end_time": "2025-03-25T18:31:03.135697Z",
     "start_time": "2025-03-25T18:31:03.130495Z"
    }
   },
   "cell_type": "code",
   "source": "os.path.exists(config['project']['project_path'] + '/wandb')",
   "id": "d270fa82b5d983e4",
   "outputs": [
    {
     "data": {
      "text/plain": [
       "True"
      ]
     },
     "execution_count": 5,
     "metadata": {},
     "output_type": "execute_result"
    }
   ],
   "execution_count": 5
  },
  {
   "metadata": {
    "ExecuteTime": {
     "end_time": "2025-03-25T17:26:45.230959Z",
     "start_time": "2025-03-25T17:26:42.252727Z"
    }
   },
   "cell_type": "code",
   "source": "wandb.init(project=config['project']['name'], name=f\"{config['model']['model_desc']}-{config['model']['model_ver']}\", dir=config['project']['project_path'])",
   "id": "ccd1a13491a6c72b",
   "outputs": [
    {
     "name": "stderr",
     "output_type": "stream",
     "text": [
      "\u001B[34m\u001B[1mwandb\u001B[0m: Using wandb-core as the SDK backend.  Please refer to https://wandb.me/wandb-core for more information.\n",
      "\u001B[34m\u001B[1mwandb\u001B[0m: Currently logged in as: \u001B[33msiddhantmahalle\u001B[0m (\u001B[33msiddhant-ai\u001B[0m) to \u001B[32mhttps://api.wandb.ai\u001B[0m. Use \u001B[1m`wandb login --relogin`\u001B[0m to force relogin\n"
     ]
    },
    {
     "data": {
      "text/plain": [
       "<IPython.core.display.HTML object>"
      ],
      "text/html": [
       "creating run (0.2s)"
      ]
     },
     "metadata": {},
     "output_type": "display_data"
    },
    {
     "data": {
      "text/plain": [
       "<IPython.core.display.HTML object>"
      ],
      "text/html": [
       "Tracking run with wandb version 0.19.8"
      ]
     },
     "metadata": {},
     "output_type": "display_data"
    },
    {
     "data": {
      "text/plain": [
       "<IPython.core.display.HTML object>"
      ],
      "text/html": [
       "Run data is saved locally in <code>/mnt/d/Projects_D/BirdCLEF_2025/wandb/run-20250325_172643-q45fa6zl</code>"
      ]
     },
     "metadata": {},
     "output_type": "display_data"
    },
    {
     "data": {
      "text/plain": [
       "<IPython.core.display.HTML object>"
      ],
      "text/html": [
       "Syncing run <strong><a href='https://wandb.ai/siddhant-ai/birdclef_2025/runs/q45fa6zl' target=\"_blank\">efficientnet_b0-v3</a></strong> to <a href='https://wandb.ai/siddhant-ai/birdclef_2025' target=\"_blank\">Weights & Biases</a> (<a href='https://wandb.me/developer-guide' target=\"_blank\">docs</a>)<br>"
      ]
     },
     "metadata": {},
     "output_type": "display_data"
    },
    {
     "data": {
      "text/plain": [
       "<IPython.core.display.HTML object>"
      ],
      "text/html": [
       " View project at <a href='https://wandb.ai/siddhant-ai/birdclef_2025' target=\"_blank\">https://wandb.ai/siddhant-ai/birdclef_2025</a>"
      ]
     },
     "metadata": {},
     "output_type": "display_data"
    },
    {
     "data": {
      "text/plain": [
       "<IPython.core.display.HTML object>"
      ],
      "text/html": [
       " View run at <a href='https://wandb.ai/siddhant-ai/birdclef_2025/runs/q45fa6zl' target=\"_blank\">https://wandb.ai/siddhant-ai/birdclef_2025/runs/q45fa6zl</a>"
      ]
     },
     "metadata": {},
     "output_type": "display_data"
    },
    {
     "data": {
      "text/html": [
       "<button onClick=\"this.nextSibling.style.display='block';this.style.display='none';\">Display W&B run</button><iframe src='https://wandb.ai/siddhant-ai/birdclef_2025/runs/q45fa6zl?jupyter=true' style='border:none;width:100%;height:420px;display:none;'></iframe>"
      ],
      "text/plain": [
       "<wandb.sdk.wandb_run.Run at 0x7f41fd052020>"
      ]
     },
     "execution_count": 6,
     "metadata": {},
     "output_type": "execute_result"
    }
   ],
   "execution_count": 6
  },
  {
   "metadata": {},
   "cell_type": "markdown",
   "source": "## Load data",
   "id": "7f91ec8693a65450"
  },
  {
   "metadata": {
    "ExecuteTime": {
     "end_time": "2025-03-25T18:31:05.940475Z",
     "start_time": "2025-03-25T18:31:05.819615Z"
    }
   },
   "cell_type": "code",
   "source": [
    "meta = pd.read_csv(config['data']['birdclef_2025'] + '/train.csv')\n",
    "taxonomy = pd.read_csv(config['data']['birdclef_2025'] + '/taxonomy.csv')"
   ],
   "id": "c49b8c24a514b6c1",
   "outputs": [],
   "execution_count": 6
  },
  {
   "metadata": {
    "ExecuteTime": {
     "end_time": "2025-03-25T18:31:06.197254Z",
     "start_time": "2025-03-25T18:31:06.185682Z"
    }
   },
   "cell_type": "code",
   "source": "meta.head()",
   "id": "f9e58b1cb943e515",
   "outputs": [
    {
     "data": {
      "text/plain": [
       "  primary_label secondary_labels  type              filename collection  \\\n",
       "0       1139490             ['']  ['']  1139490/CSA36385.ogg        CSA   \n",
       "1       1139490             ['']  ['']  1139490/CSA36389.ogg        CSA   \n",
       "2       1192948             ['']  ['']  1192948/CSA36358.ogg        CSA   \n",
       "3       1192948             ['']  ['']  1192948/CSA36366.ogg        CSA   \n",
       "4       1192948             ['']  ['']  1192948/CSA36373.ogg        CSA   \n",
       "\n",
       "   rating                                                url  latitude  \\\n",
       "0     0.0  http://colecciones.humboldt.org.co/rec/sonidos...    7.3206   \n",
       "1     0.0  http://colecciones.humboldt.org.co/rec/sonidos...    7.3206   \n",
       "2     0.0  http://colecciones.humboldt.org.co/rec/sonidos...    7.3791   \n",
       "3     0.0  http://colecciones.humboldt.org.co/rec/sonidos...    7.2800   \n",
       "4     0.0  http://colecciones.humboldt.org.co/rec/sonidos...    7.3791   \n",
       "\n",
       "   longitude        scientific_name            common_name             author  \\\n",
       "0   -73.7128   Ragoniella pulchella   Ragoniella pulchella  Fabio A. Sarria-S   \n",
       "1   -73.7128   Ragoniella pulchella   Ragoniella pulchella  Fabio A. Sarria-S   \n",
       "2   -73.7313  Oxyprora surinamensis  Oxyprora surinamensis  Fabio A. Sarria-S   \n",
       "3   -73.8582  Oxyprora surinamensis  Oxyprora surinamensis  Fabio A. Sarria-S   \n",
       "4   -73.7313  Oxyprora surinamensis  Oxyprora surinamensis  Fabio A. Sarria-S   \n",
       "\n",
       "           license  \n",
       "0  cc-by-nc-sa 4.0  \n",
       "1  cc-by-nc-sa 4.0  \n",
       "2  cc-by-nc-sa 4.0  \n",
       "3  cc-by-nc-sa 4.0  \n",
       "4  cc-by-nc-sa 4.0  "
      ],
      "text/html": [
       "<div>\n",
       "<style scoped>\n",
       "    .dataframe tbody tr th:only-of-type {\n",
       "        vertical-align: middle;\n",
       "    }\n",
       "\n",
       "    .dataframe tbody tr th {\n",
       "        vertical-align: top;\n",
       "    }\n",
       "\n",
       "    .dataframe thead th {\n",
       "        text-align: right;\n",
       "    }\n",
       "</style>\n",
       "<table border=\"1\" class=\"dataframe\">\n",
       "  <thead>\n",
       "    <tr style=\"text-align: right;\">\n",
       "      <th></th>\n",
       "      <th>primary_label</th>\n",
       "      <th>secondary_labels</th>\n",
       "      <th>type</th>\n",
       "      <th>filename</th>\n",
       "      <th>collection</th>\n",
       "      <th>rating</th>\n",
       "      <th>url</th>\n",
       "      <th>latitude</th>\n",
       "      <th>longitude</th>\n",
       "      <th>scientific_name</th>\n",
       "      <th>common_name</th>\n",
       "      <th>author</th>\n",
       "      <th>license</th>\n",
       "    </tr>\n",
       "  </thead>\n",
       "  <tbody>\n",
       "    <tr>\n",
       "      <th>0</th>\n",
       "      <td>1139490</td>\n",
       "      <td>['']</td>\n",
       "      <td>['']</td>\n",
       "      <td>1139490/CSA36385.ogg</td>\n",
       "      <td>CSA</td>\n",
       "      <td>0.0</td>\n",
       "      <td>http://colecciones.humboldt.org.co/rec/sonidos...</td>\n",
       "      <td>7.3206</td>\n",
       "      <td>-73.7128</td>\n",
       "      <td>Ragoniella pulchella</td>\n",
       "      <td>Ragoniella pulchella</td>\n",
       "      <td>Fabio A. Sarria-S</td>\n",
       "      <td>cc-by-nc-sa 4.0</td>\n",
       "    </tr>\n",
       "    <tr>\n",
       "      <th>1</th>\n",
       "      <td>1139490</td>\n",
       "      <td>['']</td>\n",
       "      <td>['']</td>\n",
       "      <td>1139490/CSA36389.ogg</td>\n",
       "      <td>CSA</td>\n",
       "      <td>0.0</td>\n",
       "      <td>http://colecciones.humboldt.org.co/rec/sonidos...</td>\n",
       "      <td>7.3206</td>\n",
       "      <td>-73.7128</td>\n",
       "      <td>Ragoniella pulchella</td>\n",
       "      <td>Ragoniella pulchella</td>\n",
       "      <td>Fabio A. Sarria-S</td>\n",
       "      <td>cc-by-nc-sa 4.0</td>\n",
       "    </tr>\n",
       "    <tr>\n",
       "      <th>2</th>\n",
       "      <td>1192948</td>\n",
       "      <td>['']</td>\n",
       "      <td>['']</td>\n",
       "      <td>1192948/CSA36358.ogg</td>\n",
       "      <td>CSA</td>\n",
       "      <td>0.0</td>\n",
       "      <td>http://colecciones.humboldt.org.co/rec/sonidos...</td>\n",
       "      <td>7.3791</td>\n",
       "      <td>-73.7313</td>\n",
       "      <td>Oxyprora surinamensis</td>\n",
       "      <td>Oxyprora surinamensis</td>\n",
       "      <td>Fabio A. Sarria-S</td>\n",
       "      <td>cc-by-nc-sa 4.0</td>\n",
       "    </tr>\n",
       "    <tr>\n",
       "      <th>3</th>\n",
       "      <td>1192948</td>\n",
       "      <td>['']</td>\n",
       "      <td>['']</td>\n",
       "      <td>1192948/CSA36366.ogg</td>\n",
       "      <td>CSA</td>\n",
       "      <td>0.0</td>\n",
       "      <td>http://colecciones.humboldt.org.co/rec/sonidos...</td>\n",
       "      <td>7.2800</td>\n",
       "      <td>-73.8582</td>\n",
       "      <td>Oxyprora surinamensis</td>\n",
       "      <td>Oxyprora surinamensis</td>\n",
       "      <td>Fabio A. Sarria-S</td>\n",
       "      <td>cc-by-nc-sa 4.0</td>\n",
       "    </tr>\n",
       "    <tr>\n",
       "      <th>4</th>\n",
       "      <td>1192948</td>\n",
       "      <td>['']</td>\n",
       "      <td>['']</td>\n",
       "      <td>1192948/CSA36373.ogg</td>\n",
       "      <td>CSA</td>\n",
       "      <td>0.0</td>\n",
       "      <td>http://colecciones.humboldt.org.co/rec/sonidos...</td>\n",
       "      <td>7.3791</td>\n",
       "      <td>-73.7313</td>\n",
       "      <td>Oxyprora surinamensis</td>\n",
       "      <td>Oxyprora surinamensis</td>\n",
       "      <td>Fabio A. Sarria-S</td>\n",
       "      <td>cc-by-nc-sa 4.0</td>\n",
       "    </tr>\n",
       "  </tbody>\n",
       "</table>\n",
       "</div>"
      ]
     },
     "execution_count": 7,
     "metadata": {},
     "output_type": "execute_result"
    }
   ],
   "execution_count": 7
  },
  {
   "metadata": {
    "ExecuteTime": {
     "end_time": "2025-03-25T18:31:07.285275Z",
     "start_time": "2025-03-25T18:31:07.279841Z"
    }
   },
   "cell_type": "code",
   "source": [
    "class_labels = meta.primary_label.unique()\n",
    "num_classes = len(class_labels)"
   ],
   "id": "aee3a91b97d1ea56",
   "outputs": [],
   "execution_count": 8
  },
  {
   "metadata": {},
   "cell_type": "markdown",
   "source": "## Utils",
   "id": "ea93b3d83b197d94"
  },
  {
   "metadata": {},
   "cell_type": "markdown",
   "source": "## Dataset",
   "id": "97df44090d5414ac"
  },
  {
   "metadata": {
    "ExecuteTime": {
     "end_time": "2025-03-25T18:31:08.627699Z",
     "start_time": "2025-03-25T18:31:08.615928Z"
    }
   },
   "cell_type": "code",
   "source": [
    "class BirdclefDataset(Dataset):\n",
    "    def __init__(self, df, class_labels, mode='train'):\n",
    "        self.df = df\n",
    "        self.class_labels = class_labels\n",
    "        self.mode = mode\n",
    "        self.config = config\n",
    "        self.input_path = Path(config['data']['processed_audio']) / 'v1'\n",
    "        self.min_segment = int(config['audio_preprocessing']['min_segment'])\n",
    "        self.mode = config['notebook_mode']['mode']\n",
    "\n",
    "    @classmethod\n",
    "    def normalize_std(cls, spec, eps=1e-23):\n",
    "        mean = torch.mean(spec)\n",
    "        std = torch.std(spec)\n",
    "        return (spec - mean) / (std + eps)\n",
    "\n",
    "    def get_mel_spectrogram(self, audio_signal):\n",
    "        params = self.config['mel_spectrogram']\n",
    "        mel_spectrogram = at.MelSpectrogram(\n",
    "            sample_rate=int(self.config['audio_params']['sample_rate']),\n",
    "            n_fft=int(params['n_fft']),\n",
    "            win_length=int(params['win_length']),\n",
    "            hop_length=int(params['hop_length']),\n",
    "            n_mels=int(params['n_mels']),\n",
    "            f_min=float(params['f_min']),\n",
    "            f_max=float(params['f_max']),\n",
    "            mel_scale=params['mel_scale']\n",
    "        )\n",
    "        mel_spec = mel_spectrogram(audio_signal)\n",
    "        return torch.log(mel_spec)\n",
    "\n",
    "    def __getitem__(self, index):\n",
    "        filename = self.df.iloc[index].filename\n",
    "        sig, _ = torchaudio.load(self.input_path / filename, backend=self.config['audio_preprocessing']['backend'])\n",
    "        sig = sig / torch.max(torch.abs(sig))\n",
    "        sig = sig + 1.5849e-05 * (torch.rand(1, self.min_segment) - 0.5)\n",
    "\n",
    "        mel_spec = self.get_mel_spectrogram(sig)\n",
    "        mel_spec = self.normalize_std(mel_spec)\n",
    "\n",
    "        if self.mode == 'train' and random.random() < 0.5:\n",
    "            mel_spec = self.apply_augmentation(mel_spec)\n",
    "\n",
    "        target = self.df.iloc[index].primary_label\n",
    "        y = np.array([1 if lbl == target else 0 for lbl in self.class_labels])\n",
    "\n",
    "        return mel_spec, torch.tensor(y, dtype=torch.float32)\n",
    "\n",
    "    @classmethod\n",
    "    def apply_augmentation(cls, mel_spec):\n",
    "\n",
    "        # Time masking (horizontal stripes)\n",
    "        if random.random() < 0.5:\n",
    "            num_masks = random.randint(1, 3)\n",
    "            for _ in range(num_masks):\n",
    "                width = random.randint(5, 20)\n",
    "                start = random.randint(0, mel_spec.shape[2] - width)\n",
    "                mel_spec[0, :, start:start+width] = 0\n",
    "\n",
    "        # Frequency masking (vertical stripes)\n",
    "        if random.random() < 0.5:\n",
    "            num_masks = random.randint(1, 3)\n",
    "            for _ in range(num_masks):\n",
    "                height = random.randint(5, 20)\n",
    "                start = random.randint(0, mel_spec.shape[1] - height)\n",
    "                mel_spec[0, start:start+height, :] = 0\n",
    "\n",
    "        # Random brightness/contrast\n",
    "        if random.random() < 0.5:\n",
    "            gain = random.uniform(0.8, 1.2)\n",
    "            bias = random.uniform(-0.1, 0.1)\n",
    "            mel_spec = mel_spec * gain + bias\n",
    "            mel_spec = torch.clamp(mel_spec, 0, 1)\n",
    "\n",
    "        return mel_spec\n",
    "\n",
    "    def __len__(self):\n",
    "        return len(self.df)"
   ],
   "id": "c0a35b9a664a8ae6",
   "outputs": [],
   "execution_count": 9
  },
  {
   "metadata": {
    "ExecuteTime": {
     "end_time": "2025-03-25T18:31:09.242803Z",
     "start_time": "2025-03-25T18:31:09.239861Z"
    }
   },
   "cell_type": "code",
   "source": "",
   "id": "cb73cd89ab274a71",
   "outputs": [],
   "execution_count": null
  },
  {
   "metadata": {},
   "cell_type": "markdown",
   "source": "## Model",
   "id": "587559f2a3fc8cbd"
  },
  {
   "metadata": {
    "ExecuteTime": {
     "end_time": "2025-03-25T18:31:10.686889Z",
     "start_time": "2025-03-25T18:31:10.666350Z"
    }
   },
   "cell_type": "code",
   "source": [
    "class BirdclefModel(pl.LightningModule):\n",
    "    def __init__(self, class_labels):\n",
    "        super(BirdclefModel, self).__init__()\n",
    "        self.save_hyperparameters()\n",
    "        self.class_labels = class_labels\n",
    "        self.num_classes = len(self.class_labels)\n",
    "        self.model_backbone = config['model']['model_backbone']\n",
    "        self.model = self.get_model()\n",
    "\n",
    "        self.hparams.learning_rate = float( config['training']['learning_rate'])\n",
    "        self.hparams.weight_decay = float(config['training']['weight_decay'])\n",
    "        self.hparams.min_lr = float(config['training']['min_lr'])\n",
    "        self.hparams.t_max = int(config['training']['t_max'])\n",
    "        \n",
    "        self.optimizer = config['training']['optimizer']\n",
    "        self.scheduler = config['training']['scheduler']\n",
    "        self.criteria = config['training']['criterion']\n",
    "\n",
    "        self.loss_fn = self.get_criteria()\n",
    "\n",
    "        # For storing predictions and labels\n",
    "        self.pred_train = []\n",
    "        self.label_train = []\n",
    "        self.pred_val = []\n",
    "        self.label_val = []\n",
    "\n",
    "    def get_model(self):\n",
    "\n",
    "        model_obj = timm.create_model(config['model']['model_desc'], pretrained=True, num_classes=self.num_classes)\n",
    "        return model_obj\n",
    "\n",
    "    def forward(self, x):\n",
    "        x = torch.cat((x, x, x), 1)\n",
    "        return self.model(x)\n",
    "\n",
    "    def training_step(self, batch, batch_idx):\n",
    "        x, y = batch\n",
    "        preds = self(x)\n",
    "        loss = self.loss_fn(preds, y)\n",
    "\n",
    "        self.label_train.append(y.detach().cpu().numpy())\n",
    "        self.pred_train.append(torch.softmax(preds, dim=1).detach().cpu().numpy())\n",
    "\n",
    "        self.log(\"train_loss\", loss, on_epoch=True)\n",
    "        return loss\n",
    "\n",
    "    def validation_step(self, batch, batch_idx):\n",
    "        x, y = batch\n",
    "        preds = self(x)\n",
    "        loss = self.loss_fn(preds, y)\n",
    "\n",
    "        self.label_val.append(y.detach().cpu().numpy())\n",
    "        self.pred_val.append(torch.softmax(preds, dim=1).detach().cpu().numpy())\n",
    "\n",
    "        self.log(\"val_loss\", loss, on_epoch=True)\n",
    "        return loss\n",
    "\n",
    "    def on_train_epoch_end(self):\n",
    "        auc = self.cal_score(self.label_train, self.pred_train)\n",
    "        self.log(\"train_auc\", auc, on_epoch=True)\n",
    "        self.pred_train.clear()\n",
    "        self.label_train.clear()\n",
    "\n",
    "    def on_validation_epoch_end(self):\n",
    "        auc = self.cal_score(self.label_val, self.pred_val)\n",
    "        self.log(\"val_auc\", auc, on_epoch=True)\n",
    "        self.pred_val.clear()\n",
    "        self.label_val.clear()\n",
    "\n",
    "    def configure_optimizers(self):\n",
    "        optimizer = self.get_optimizer()\n",
    "        scheduler = self.get_scheduler(optimizer)\n",
    "        return {\n",
    "            \"optimizer\": optimizer,\n",
    "            \"lr_scheduler\": {\n",
    "                \"scheduler\": scheduler,\n",
    "                \"monitor\": \"val_loss\"\n",
    "            }\n",
    "        }\n",
    "\n",
    "    def get_optimizer(self):\n",
    "        if self.optimizer == 'adam':\n",
    "            return torch.optim.Adam(self.parameters(),\n",
    "                                    lr=self.hparams.learning_rate,\n",
    "                                    weight_decay=self.hparams.weight_decay)\n",
    "        elif self.optimizer == 'adamw':\n",
    "            return torch.optim.AdamW(self.parameters(),\n",
    "                                     lr=self.hparams.learning_rate,\n",
    "                                     weight_decay=self.hparams.weight_decay)\n",
    "        elif self.optimizer == 'sgd':\n",
    "            return torch.optim.SGD(self.parameters(),\n",
    "                                   lr=self.hparams.learning_rate,\n",
    "                                   momentum=0.9,\n",
    "                                   weight_decay=self.hparams.weight_decay)\n",
    "        else:\n",
    "            raise NotImplementedError\n",
    "\n",
    "    def get_scheduler(self, optimizer):\n",
    "        if self.scheduler == 'reducelronplateau':\n",
    "            return torch.optim.lr_scheduler.ReduceLROnPlateau(optimizer,\n",
    "                                                              mode='min',\n",
    "                                                              factor=0.5,\n",
    "                                                              patience=2,\n",
    "                                                              min_lr=self.hparams.min_lr)\n",
    "        elif self.scheduler == 'steplr':\n",
    "            return torch.optim.lr_scheduler.StepLR(optimizer,\n",
    "                                                   step_size=3,\n",
    "                                                   gamma=0.5)\n",
    "        elif self.scheduler == 'cosineannealinglr':\n",
    "            return torch.optim.lr_scheduler.CosineAnnealingLR(optimizer,\n",
    "                                                              T_max=self.hparams.t_max,\n",
    "                                                              eta_min=self.hparams.min_lr)\n",
    "        else:\n",
    "            return None\n",
    "\n",
    "    def get_criteria(self):\n",
    "        if self.criteria == 'bce':\n",
    "            return nn.BCEWithLogitsLoss()\n",
    "        elif self.criteria == 'ce':\n",
    "            return nn.CrossEntropyLoss()\n",
    "        else:\n",
    "            raise NotImplementedError\n",
    "\n",
    "    def cal_score(self, label, pred):\n",
    "        label = np.concatenate(label)\n",
    "        pred = np.concatenate(pred)\n",
    "\n",
    "        label_df = pd.DataFrame(label>0.5, columns=self.class_labels)\n",
    "        pred_df = pd.DataFrame(pred, columns=self.class_labels)\n",
    "        label_df['id'] = np.arange(len(label_df))\n",
    "        pred_df['id'] = np.arange(len(pred_df))\n",
    "\n",
    "        return score(label_df, pred_df, row_id_column_name='id')"
   ],
   "id": "3351448eeb547fbb",
   "outputs": [],
   "execution_count": 10
  },
  {
   "metadata": {},
   "cell_type": "markdown",
   "source": "## Training",
   "id": "c2ab5d6e2837590a"
  },
  {
   "metadata": {
    "ExecuteTime": {
     "end_time": "2025-03-25T18:31:12.991644Z",
     "start_time": "2025-03-25T18:31:12.979659Z"
    }
   },
   "cell_type": "code",
   "source": [
    "train_df, val_df = train_test_split(meta, test_size=0.2, random_state=42)\n",
    "\n",
    "train_dataset = BirdclefDataset(train_df, mode='train', class_labels=class_labels)\n",
    "train_loader = DataLoader(train_dataset, batch_size=int(config['training']['batch_size']), shuffle=True, num_workers=int(config['training']['num_workers']),drop_last=True)\n",
    "\n",
    "val_dataset = BirdclefDataset(val_df, mode='val', class_labels=class_labels)\n",
    "val_loader = DataLoader(val_dataset, batch_size=int(config['training']['batch_size']), shuffle=False, num_workers=int(config['training']['num_workers']),drop_last=True)"
   ],
   "id": "9ac0dec566d62ca4",
   "outputs": [],
   "execution_count": 11
  },
  {
   "metadata": {
    "ExecuteTime": {
     "end_time": "2025-03-25T18:31:14.819773Z",
     "start_time": "2025-03-25T18:31:14.455783Z"
    }
   },
   "cell_type": "code",
   "source": "model = BirdclefModel(class_labels)",
   "id": "8721f559fd64f8be",
   "outputs": [],
   "execution_count": 12
  },
  {
   "metadata": {
    "ExecuteTime": {
     "end_time": "2025-03-25T18:31:15.264791Z",
     "start_time": "2025-03-25T18:31:15.251689Z"
    }
   },
   "cell_type": "code",
   "source": [
    "checkpoint_callback = ModelCheckpoint(\n",
    "    dirpath=config['model']['model_path'] + '/'+ config['model']['model_desc'] + '-' + config['model']['model_ver'],\n",
    "    filename='{epoch:02d}-{val_loss:.2f}',\n",
    "    save_top_k=1,\n",
    "    monitor='val_loss',\n",
    "    mode='min'\n",
    ")\n",
    "\n",
    "early_stopping = EarlyStopping(monitor=\"val_loss\", patience=4, mode=\"min\")"
   ],
   "id": "29845e640f0b50a",
   "outputs": [],
   "execution_count": 13
  },
  {
   "metadata": {
    "ExecuteTime": {
     "end_time": "2025-03-25T18:31:17.714633Z",
     "start_time": "2025-03-25T18:31:17.704719Z"
    }
   },
   "cell_type": "code",
   "source": "logger = WandbLogger(log_model='all')",
   "id": "ea76ea60e4f51f12",
   "outputs": [],
   "execution_count": 14
  },
  {
   "metadata": {
    "ExecuteTime": {
     "end_time": "2025-03-25T18:31:23.313159Z",
     "start_time": "2025-03-25T18:31:23.256122Z"
    }
   },
   "cell_type": "code",
   "source": [
    "trainer = pl.Trainer(\n",
    "    max_epochs=int(config['training']['epochs']),\n",
    "    devices=1,\n",
    "    accelerator='gpu' if torch.cuda.is_available() else 'cpu',\n",
    "    logger=logger,\n",
    "    callbacks=[checkpoint_callback, early_stopping]\n",
    ")"
   ],
   "id": "629bdd764ebbfe96",
   "outputs": [
    {
     "name": "stderr",
     "output_type": "stream",
     "text": [
      "GPU available: True (cuda), used: True\n",
      "TPU available: False, using: 0 TPU cores\n",
      "HPU available: False, using: 0 HPUs\n"
     ]
    }
   ],
   "execution_count": 15
  },
  {
   "metadata": {
    "ExecuteTime": {
     "end_time": "2025-03-25T18:19:00.060691Z",
     "start_time": "2025-03-25T17:26:47.356535Z"
    }
   },
   "cell_type": "code",
   "source": "trainer.fit(model, train_loader, val_loader)",
   "id": "8b81c7479609759",
   "outputs": [
    {
     "name": "stderr",
     "output_type": "stream",
     "text": [
      "You are using a CUDA device ('NVIDIA GeForce RTX 3070 Laptop GPU') that has Tensor Cores. To properly utilize them, you should set `torch.set_float32_matmul_precision('medium' | 'high')` which will trade-off precision for performance. For more details, read https://pytorch.org/docs/stable/generated/torch.set_float32_matmul_precision.html#torch.set_float32_matmul_precision\n",
      "LOCAL_RANK: 0 - CUDA_VISIBLE_DEVICES: [0]\n",
      "\n",
      "  | Name    | Type              | Params | Mode \n",
      "------------------------------------------------------\n",
      "0 | model   | EfficientNet      | 4.3 M  | train\n",
      "1 | loss_fn | BCEWithLogitsLoss | 0      | train\n",
      "------------------------------------------------------\n",
      "4.3 M     Trainable params\n",
      "0         Non-trainable params\n",
      "4.3 M     Total params\n",
      "17.086    Total estimated model params size (MB)\n",
      "338       Modules in train mode\n",
      "0         Modules in eval mode\n"
     ]
    },
    {
     "data": {
      "text/plain": [
       "Sanity Checking: |          | 0/? [00:00<?, ?it/s]"
      ],
      "application/vnd.jupyter.widget-view+json": {
       "version_major": 2,
       "version_minor": 0,
       "model_id": "f89d4d8dbef44801838aff15a094c18b"
      }
     },
     "metadata": {},
     "output_type": "display_data"
    },
    {
     "data": {
      "text/plain": [
       "Training: |          | 0/? [00:00<?, ?it/s]"
      ],
      "application/vnd.jupyter.widget-view+json": {
       "version_major": 2,
       "version_minor": 0,
       "model_id": "70d66c82e5654608a64ff4ca1cf14633"
      }
     },
     "metadata": {},
     "output_type": "display_data"
    },
    {
     "data": {
      "text/plain": [
       "Validation: |          | 0/? [00:00<?, ?it/s]"
      ],
      "application/vnd.jupyter.widget-view+json": {
       "version_major": 2,
       "version_minor": 0,
       "model_id": "d16269b0cd504104b849ebe65e6a668e"
      }
     },
     "metadata": {},
     "output_type": "display_data"
    },
    {
     "data": {
      "text/plain": [
       "Validation: |          | 0/? [00:00<?, ?it/s]"
      ],
      "application/vnd.jupyter.widget-view+json": {
       "version_major": 2,
       "version_minor": 0,
       "model_id": "7981abfb6aa84f208963062ecc86f889"
      }
     },
     "metadata": {},
     "output_type": "display_data"
    },
    {
     "data": {
      "text/plain": [
       "Validation: |          | 0/? [00:00<?, ?it/s]"
      ],
      "application/vnd.jupyter.widget-view+json": {
       "version_major": 2,
       "version_minor": 0,
       "model_id": "46301ac6fc604a4fa233473c1423cd2f"
      }
     },
     "metadata": {},
     "output_type": "display_data"
    },
    {
     "data": {
      "text/plain": [
       "Validation: |          | 0/? [00:00<?, ?it/s]"
      ],
      "application/vnd.jupyter.widget-view+json": {
       "version_major": 2,
       "version_minor": 0,
       "model_id": "dd8055ed719b4c8890d6b2b757557a26"
      }
     },
     "metadata": {},
     "output_type": "display_data"
    },
    {
     "data": {
      "text/plain": [
       "Validation: |          | 0/? [00:00<?, ?it/s]"
      ],
      "application/vnd.jupyter.widget-view+json": {
       "version_major": 2,
       "version_minor": 0,
       "model_id": "d604aecb35c1497894e8051d9659785b"
      }
     },
     "metadata": {},
     "output_type": "display_data"
    },
    {
     "data": {
      "text/plain": [
       "Validation: |          | 0/? [00:00<?, ?it/s]"
      ],
      "application/vnd.jupyter.widget-view+json": {
       "version_major": 2,
       "version_minor": 0,
       "model_id": "5c1dc584b6d449308a8624e949127bc8"
      }
     },
     "metadata": {},
     "output_type": "display_data"
    },
    {
     "data": {
      "text/plain": [
       "Validation: |          | 0/? [00:00<?, ?it/s]"
      ],
      "application/vnd.jupyter.widget-view+json": {
       "version_major": 2,
       "version_minor": 0,
       "model_id": "063cae6e31284dd0b19b71a3dd4b3270"
      }
     },
     "metadata": {},
     "output_type": "display_data"
    },
    {
     "data": {
      "text/plain": [
       "Validation: |          | 0/? [00:00<?, ?it/s]"
      ],
      "application/vnd.jupyter.widget-view+json": {
       "version_major": 2,
       "version_minor": 0,
       "model_id": "a619e9c7cf844a2fb2e8d08f6f45ecbb"
      }
     },
     "metadata": {},
     "output_type": "display_data"
    },
    {
     "data": {
      "text/plain": [
       "Validation: |          | 0/? [00:00<?, ?it/s]"
      ],
      "application/vnd.jupyter.widget-view+json": {
       "version_major": 2,
       "version_minor": 0,
       "model_id": "acf46e118b89490d8dae96f8dc607a8e"
      }
     },
     "metadata": {},
     "output_type": "display_data"
    },
    {
     "data": {
      "text/plain": [
       "Validation: |          | 0/? [00:00<?, ?it/s]"
      ],
      "application/vnd.jupyter.widget-view+json": {
       "version_major": 2,
       "version_minor": 0,
       "model_id": "f1c5fc6034c6491682659b486f3316d2"
      }
     },
     "metadata": {},
     "output_type": "display_data"
    },
    {
     "data": {
      "text/plain": [
       "Validation: |          | 0/? [00:00<?, ?it/s]"
      ],
      "application/vnd.jupyter.widget-view+json": {
       "version_major": 2,
       "version_minor": 0,
       "model_id": "ce952ec269534bd7b837b84fe6300bad"
      }
     },
     "metadata": {},
     "output_type": "display_data"
    },
    {
     "data": {
      "text/plain": [
       "Validation: |          | 0/? [00:00<?, ?it/s]"
      ],
      "application/vnd.jupyter.widget-view+json": {
       "version_major": 2,
       "version_minor": 0,
       "model_id": "90d8b1821c3642fda64a0ef446e9945d"
      }
     },
     "metadata": {},
     "output_type": "display_data"
    },
    {
     "data": {
      "text/plain": [
       "Validation: |          | 0/? [00:00<?, ?it/s]"
      ],
      "application/vnd.jupyter.widget-view+json": {
       "version_major": 2,
       "version_minor": 0,
       "model_id": "69d70d349f3543cc9797b46a174dbf4f"
      }
     },
     "metadata": {},
     "output_type": "display_data"
    },
    {
     "data": {
      "text/plain": [
       "Validation: |          | 0/? [00:00<?, ?it/s]"
      ],
      "application/vnd.jupyter.widget-view+json": {
       "version_major": 2,
       "version_minor": 0,
       "model_id": "9add49e4a6fb4e2db64b1c189d2c2b8a"
      }
     },
     "metadata": {},
     "output_type": "display_data"
    },
    {
     "data": {
      "text/plain": [
       "Validation: |          | 0/? [00:00<?, ?it/s]"
      ],
      "application/vnd.jupyter.widget-view+json": {
       "version_major": 2,
       "version_minor": 0,
       "model_id": "37b50273ad2c4e8faa52d1278cbc5da0"
      }
     },
     "metadata": {},
     "output_type": "display_data"
    },
    {
     "data": {
      "text/plain": [
       "Validation: |          | 0/? [00:00<?, ?it/s]"
      ],
      "application/vnd.jupyter.widget-view+json": {
       "version_major": 2,
       "version_minor": 0,
       "model_id": "4ca71acdd3ee467ca86eebf42db06219"
      }
     },
     "metadata": {},
     "output_type": "display_data"
    },
    {
     "data": {
      "text/plain": [
       "Validation: |          | 0/? [00:00<?, ?it/s]"
      ],
      "application/vnd.jupyter.widget-view+json": {
       "version_major": 2,
       "version_minor": 0,
       "model_id": "6a866409ee9840ac8f800823f428db84"
      }
     },
     "metadata": {},
     "output_type": "display_data"
    },
    {
     "data": {
      "text/plain": [
       "Validation: |          | 0/? [00:00<?, ?it/s]"
      ],
      "application/vnd.jupyter.widget-view+json": {
       "version_major": 2,
       "version_minor": 0,
       "model_id": "2f9652befced4ace944fdc584c73d71b"
      }
     },
     "metadata": {},
     "output_type": "display_data"
    },
    {
     "data": {
      "text/plain": [
       "Validation: |          | 0/? [00:00<?, ?it/s]"
      ],
      "application/vnd.jupyter.widget-view+json": {
       "version_major": 2,
       "version_minor": 0,
       "model_id": "0e0c63c106d24051b28df5b98fb99997"
      }
     },
     "metadata": {},
     "output_type": "display_data"
    },
    {
     "data": {
      "text/plain": [
       "Validation: |          | 0/? [00:00<?, ?it/s]"
      ],
      "application/vnd.jupyter.widget-view+json": {
       "version_major": 2,
       "version_minor": 0,
       "model_id": "7be2ab4c5c9048ccb10807d35631be8a"
      }
     },
     "metadata": {},
     "output_type": "display_data"
    },
    {
     "name": "stderr",
     "output_type": "stream",
     "text": [
      "`Trainer.fit` stopped: `max_epochs=20` reached.\n"
     ]
    }
   ],
   "execution_count": 17
  },
  {
   "metadata": {
    "ExecuteTime": {
     "end_time": "2025-03-25T18:41:15.249182Z",
     "start_time": "2025-03-25T18:41:15.244822Z"
    }
   },
   "cell_type": "code",
   "source": [
    "def extract_metrics(metrics):\n",
    "    metrics = {k:v.item() for k, v in metrics.items()}\n",
    "    return metrics"
   ],
   "id": "242c2fa6d780cbd3",
   "outputs": [],
   "execution_count": 19
  },
  {
   "metadata": {
    "ExecuteTime": {
     "end_time": "2025-03-25T18:41:15.821201Z",
     "start_time": "2025-03-25T18:41:15.816057Z"
    }
   },
   "cell_type": "code",
   "source": "metrics = extract_metrics(trainer.callback_metrics)",
   "id": "d16d30ee127d595d",
   "outputs": [],
   "execution_count": 20
  },
  {
   "metadata": {
    "ExecuteTime": {
     "end_time": "2025-03-25T18:41:16.215416Z",
     "start_time": "2025-03-25T18:41:16.209755Z"
    }
   },
   "cell_type": "code",
   "source": [
    "for k, v in metrics.items():\n",
    "    print(k + \":\", v)"
   ],
   "id": "954b385f7c589845",
   "outputs": [
    {
     "name": "stdout",
     "output_type": "stream",
     "text": [
      "train_loss: 0.006661486346274614\n",
      "train_loss_step: 0.010223479941487312\n",
      "val_loss: 0.010266898199915886\n",
      "val_auc: 0.9607051014900208\n",
      "train_loss_epoch: 0.006661486346274614\n",
      "train_auc: 0.9922975897789001\n"
     ]
    }
   ],
   "execution_count": 21
  },
  {
   "metadata": {
    "ExecuteTime": {
     "end_time": "2025-03-25T18:41:20.659865Z",
     "start_time": "2025-03-25T18:41:18.097569Z"
    }
   },
   "cell_type": "code",
   "source": "wandb.finish()",
   "id": "d04ebea473961276",
   "outputs": [
    {
     "data": {
      "text/plain": [
       "<IPython.core.display.HTML object>"
      ],
      "text/html": []
     },
     "metadata": {},
     "output_type": "display_data"
    },
    {
     "data": {
      "text/plain": [
       "<IPython.core.display.HTML object>"
      ],
      "text/html": [
       "<br>    <style><br>        .wandb-row {<br>            display: flex;<br>            flex-direction: row;<br>            flex-wrap: wrap;<br>            justify-content: flex-start;<br>            width: 100%;<br>        }<br>        .wandb-col {<br>            display: flex;<br>            flex-direction: column;<br>            flex-basis: 100%;<br>            flex: 1;<br>            padding: 10px;<br>        }<br>    </style><br><div class=\"wandb-row\"><div class=\"wandb-col\"><h3>Run history:</h3><br/><table class=\"wandb\"><tr><td>epoch</td><td>▁▁▁▁▁▁▁▁▁▁▁▃▃▃▃▃▃▃▃▃▃▃▆▆▆▆▆▆▆▆▆█████████</td></tr><tr><td>train_auc</td><td>▅▃▁█</td></tr><tr><td>train_loss_epoch</td><td>█▅▃▁</td></tr><tr><td>train_loss_step</td><td>▄▅▇▄▅▂▄▄▆█▄▃▂▄▄▄▂▆▄▄▁▅█▆▅▄▁▃▆▃▂▄▆▅▁▅▆▄▆▃</td></tr><tr><td>trainer/global_step</td><td>▁▁▁▁▂▂▃▃▃▃▃▃▄▄▄▄▄▄▄▅▅▅▅▅▆▆▆▆▆▆▆▇▇▇▇▇████</td></tr><tr><td>val_auc</td><td>▅█▁▁</td></tr><tr><td>val_loss</td><td>▁▇█▃</td></tr></table><br/></div><div class=\"wandb-col\"><h3>Run summary:</h3><br/><table class=\"wandb\"><tr><td>epoch</td><td>23</td></tr><tr><td>train_auc</td><td>0.9923</td></tr><tr><td>train_loss_epoch</td><td>0.00666</td></tr><tr><td>train_loss_step</td><td>0.00729</td></tr><tr><td>trainer/global_step</td><td>13703</td></tr><tr><td>val_auc</td><td>0.96071</td></tr><tr><td>val_loss</td><td>0.01027</td></tr></table><br/></div></div>"
      ]
     },
     "metadata": {},
     "output_type": "display_data"
    },
    {
     "data": {
      "text/plain": [
       "<IPython.core.display.HTML object>"
      ],
      "text/html": [
       " View run <strong style=\"color:#cdcd00\">efficientnet_b0-v3</strong> at: <a href='https://wandb.ai/siddhant-ai/birdclef_2025/runs/q45fa6zl' target=\"_blank\">https://wandb.ai/siddhant-ai/birdclef_2025/runs/q45fa6zl</a><br> View project at: <a href='https://wandb.ai/siddhant-ai/birdclef_2025' target=\"_blank\">https://wandb.ai/siddhant-ai/birdclef_2025</a><br>Synced 5 W&B file(s), 0 media file(s), 0 artifact file(s) and 0 other file(s)"
      ]
     },
     "metadata": {},
     "output_type": "display_data"
    },
    {
     "data": {
      "text/plain": [
       "<IPython.core.display.HTML object>"
      ],
      "text/html": [
       "Find logs at: <code>/mnt/d/Projects_D/BirdCLEF_2025/wandb/run-20250325_183135-q45fa6zl/logs</code>"
      ]
     },
     "metadata": {},
     "output_type": "display_data"
    }
   ],
   "execution_count": 22
  },
  {
   "metadata": {
    "ExecuteTime": {
     "end_time": "2025-03-25T18:19:18.723917Z",
     "start_time": "2025-03-25T18:19:18.721672Z"
    }
   },
   "cell_type": "code",
   "source": "",
   "id": "8f74f8ffe2394b93",
   "outputs": [],
   "execution_count": null
  },
  {
   "metadata": {
    "ExecuteTime": {
     "end_time": "2025-03-25T18:19:18.765827Z",
     "start_time": "2025-03-25T18:19:18.763252Z"
    }
   },
   "cell_type": "code",
   "source": "",
   "id": "4736ad109aee6458",
   "outputs": [],
   "execution_count": null
  }
 ],
 "metadata": {
  "kernelspec": {
   "display_name": "Python 3",
   "language": "python",
   "name": "python3"
  },
  "language_info": {
   "codemirror_mode": {
    "name": "ipython",
    "version": 2
   },
   "file_extension": ".py",
   "mimetype": "text/x-python",
   "name": "python",
   "nbconvert_exporter": "python",
   "pygments_lexer": "ipython2",
   "version": "2.7.6"
  }
 },
 "nbformat": 4,
 "nbformat_minor": 5
}
