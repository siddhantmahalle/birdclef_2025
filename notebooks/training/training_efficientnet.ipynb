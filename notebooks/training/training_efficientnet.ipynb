{
 "cells": [
  {
   "metadata": {},
   "cell_type": "markdown",
   "source": "# BirdClef+ 2025 Training Baseline",
   "id": "913b27c511c94e66"
  },
  {
   "metadata": {},
   "cell_type": "markdown",
   "source": "## Import libraries",
   "id": "d9d8c62e255ef309"
  },
  {
   "metadata": {
    "collapsed": true,
    "ExecuteTime": {
     "end_time": "2025-03-22T07:58:19.904598Z",
     "start_time": "2025-03-22T07:58:14.836899Z"
    }
   },
   "cell_type": "code",
   "source": [
    "import os\n",
    "import time\n",
    "import configparser\n",
    "from pathlib import Path\n",
    "from tqdm import tqdm\n",
    "\n",
    "import numpy as np\n",
    "import pandas as pd\n",
    "from sklearn.model_selection import train_test_split\n",
    "\n",
    "import torch\n",
    "import torchaudio\n",
    "import torchaudio.transforms as at\n",
    "from torch.utils.data import Dataset, DataLoader\n",
    "import torch.nn as nn\n",
    "import pytorch_lightning as pl\n",
    "from pytorch_lightning.loggers import WandbLogger\n",
    "from pytorch_lightning.callbacks import ModelCheckpoint, EarlyStopping\n",
    "\n",
    "import timm\n",
    "import wandb\n",
    "\n",
    "from score.metric import score\n",
    "\n",
    "import warnings\n",
    "\n",
    "warnings.filterwarnings('ignore')"
   ],
   "id": "cc0ff1232dd931df",
   "outputs": [],
   "execution_count": 1
  },
  {
   "metadata": {},
   "cell_type": "markdown",
   "source": "## Config",
   "id": "50bdcb479ef6a3bf"
  },
  {
   "metadata": {
    "ExecuteTime": {
     "end_time": "2025-03-22T07:58:20.017911Z",
     "start_time": "2025-03-22T07:58:20.015191Z"
    }
   },
   "cell_type": "code",
   "source": "config = configparser.ConfigParser()",
   "id": "d7e13b37479cd1f",
   "outputs": [],
   "execution_count": 2
  },
  {
   "metadata": {
    "ExecuteTime": {
     "end_time": "2025-03-22T07:59:27.137283Z",
     "start_time": "2025-03-22T07:59:27.132298Z"
    }
   },
   "cell_type": "code",
   "source": [
    "config['project'] = {\n",
    "    'name': 'birdclef_2025',\n",
    "    'project_path': '/mnt/d/Projects_D/BirdCLEF_2025/'\n",
    "}\n",
    "\n",
    "config['data'] = {\n",
    "    'data_path': config['project']['project_path'] + '/data',\n",
    "    'birdclef_2025': config['project']['project_path'] + '/data/birdclef_2025',\n",
    "    'processed_audio':config['project']['project_path'] + '/data/audio_processed',\n",
    "}\n",
    "\n",
    "config['audio_params'] = {\n",
    "    'wav_sec': 5,\n",
    "    'sample_rate': 32000,\n",
    "}\n",
    "\n",
    "config['audio_preprocessing'] = {\n",
    "    'min_segment': 32000 * 5,\n",
    "    'backend': 'soundfile'\n",
    "}\n",
    "\n",
    "config['mel_spectrogram'] = {\n",
    "    'n_fft': 1024,\n",
    "    'win_length': 1024,\n",
    "    'hop_length': 512,\n",
    "    'n_mels': 80,\n",
    "    'f_min': 20,\n",
    "    'f_max': 15000,\n",
    "    'mel_scale': 'htk',\n",
    "}\n",
    "\n",
    "config['model'] = {\n",
    "    'model_backbone': 'efficientnet',\n",
    "    'model_desc': 'efficientnet_b1',\n",
    "    'model_ver': 'v1',\n",
    "    'model_path': config['project']['project_path'] + '/models'\n",
    "}\n",
    "\n",
    "config['training'] = {\n",
    "    'processed_audio': config['data']['processed_audio'] + '/v1',\n",
    "    'device': torch.device('cuda' if torch.cuda.is_available() else 'cpu'),\n",
    "    'epochs': 8,\n",
    "    'batch_size': 40,\n",
    "    'num_workers': 8,\n",
    "    'learning_rate': 0.001\n",
    "}"
   ],
   "id": "d7f9e307fe8fe04",
   "outputs": [],
   "execution_count": 8
  },
  {
   "metadata": {},
   "cell_type": "markdown",
   "source": "## WandB",
   "id": "bba20404b155089"
  },
  {
   "metadata": {
    "ExecuteTime": {
     "end_time": "2025-03-22T07:59:28.982422Z",
     "start_time": "2025-03-22T07:59:28.977768Z"
    }
   },
   "cell_type": "code",
   "source": "config['project']['project_path'] + '/wandb'",
   "id": "b0d90e75281deb08",
   "outputs": [
    {
     "data": {
      "text/plain": [
       "'/mnt/d/Projects_D/BirdCLEF_2025//wandb'"
      ]
     },
     "execution_count": 9,
     "metadata": {},
     "output_type": "execute_result"
    }
   ],
   "execution_count": 9
  },
  {
   "metadata": {
    "ExecuteTime": {
     "end_time": "2025-03-22T07:59:29.689094Z",
     "start_time": "2025-03-22T07:59:29.683798Z"
    }
   },
   "cell_type": "code",
   "source": "os.path.exists(config['project']['project_path'] + '/wandb')",
   "id": "d270fa82b5d983e4",
   "outputs": [
    {
     "data": {
      "text/plain": [
       "True"
      ]
     },
     "execution_count": 10,
     "metadata": {},
     "output_type": "execute_result"
    }
   ],
   "execution_count": 10
  },
  {
   "metadata": {
    "ExecuteTime": {
     "end_time": "2025-03-22T07:59:42.209014Z",
     "start_time": "2025-03-22T07:59:38.743658Z"
    }
   },
   "cell_type": "code",
   "source": "wandb.init(project=config['project']['name'], name=f\"{config['model']['model_desc']}-{config['model']['model_ver']}\", dir=config['project']['project_path'] + '/wandb')",
   "id": "ccd1a13491a6c72b",
   "outputs": [
    {
     "name": "stderr",
     "output_type": "stream",
     "text": [
      "\u001B[34m\u001B[1mwandb\u001B[0m: Using wandb-core as the SDK backend.  Please refer to https://wandb.me/wandb-core for more information.\n",
      "\u001B[34m\u001B[1mwandb\u001B[0m: Currently logged in as: \u001B[33msiddhantmahalle\u001B[0m (\u001B[33msiddhant-ai\u001B[0m) to \u001B[32mhttps://api.wandb.ai\u001B[0m. Use \u001B[1m`wandb login --relogin`\u001B[0m to force relogin\n"
     ]
    },
    {
     "data": {
      "text/plain": [
       "<IPython.core.display.HTML object>"
      ],
      "text/html": [
       "creating run (0.0s)"
      ]
     },
     "metadata": {},
     "output_type": "display_data"
    },
    {
     "data": {
      "text/plain": [
       "<IPython.core.display.HTML object>"
      ],
      "text/html": [
       "Tracking run with wandb version 0.19.8"
      ]
     },
     "metadata": {},
     "output_type": "display_data"
    },
    {
     "data": {
      "text/plain": [
       "<IPython.core.display.HTML object>"
      ],
      "text/html": [
       "Run data is saved locally in <code>/mnt/d/Projects_D/BirdCLEF_2025//wandb/wandb/run-20250322_075939-krz6gma7</code>"
      ]
     },
     "metadata": {},
     "output_type": "display_data"
    },
    {
     "data": {
      "text/plain": [
       "<IPython.core.display.HTML object>"
      ],
      "text/html": [
       "Syncing run <strong><a href='https://wandb.ai/siddhant-ai/birdclef_2025/runs/krz6gma7' target=\"_blank\">efficientnet_b1-v1</a></strong> to <a href='https://wandb.ai/siddhant-ai/birdclef_2025' target=\"_blank\">Weights & Biases</a> (<a href='https://wandb.me/developer-guide' target=\"_blank\">docs</a>)<br>"
      ]
     },
     "metadata": {},
     "output_type": "display_data"
    },
    {
     "data": {
      "text/plain": [
       "<IPython.core.display.HTML object>"
      ],
      "text/html": [
       " View project at <a href='https://wandb.ai/siddhant-ai/birdclef_2025' target=\"_blank\">https://wandb.ai/siddhant-ai/birdclef_2025</a>"
      ]
     },
     "metadata": {},
     "output_type": "display_data"
    },
    {
     "data": {
      "text/plain": [
       "<IPython.core.display.HTML object>"
      ],
      "text/html": [
       " View run at <a href='https://wandb.ai/siddhant-ai/birdclef_2025/runs/krz6gma7' target=\"_blank\">https://wandb.ai/siddhant-ai/birdclef_2025/runs/krz6gma7</a>"
      ]
     },
     "metadata": {},
     "output_type": "display_data"
    },
    {
     "data": {
      "text/html": [
       "<button onClick=\"this.nextSibling.style.display='block';this.style.display='none';\">Display W&B run</button><iframe src='https://wandb.ai/siddhant-ai/birdclef_2025/runs/krz6gma7?jupyter=true' style='border:none;width:100%;height:420px;display:none;'></iframe>"
      ],
      "text/plain": [
       "<wandb.sdk.wandb_run.Run at 0x7f240696ce20>"
      ]
     },
     "execution_count": 11,
     "metadata": {},
     "output_type": "execute_result"
    }
   ],
   "execution_count": 11
  },
  {
   "metadata": {},
   "cell_type": "markdown",
   "source": "## Load data",
   "id": "7f91ec8693a65450"
  },
  {
   "metadata": {
    "ExecuteTime": {
     "end_time": "2025-03-22T08:02:03.847272Z",
     "start_time": "2025-03-22T08:02:03.713530Z"
    }
   },
   "cell_type": "code",
   "source": [
    "meta = pd.read_csv(config['data']['birdclef_2025'] + '/train.csv')\n",
    "taxonomy = pd.read_csv(config['data']['birdclef_2025'] + '/taxonomy.csv')"
   ],
   "id": "c49b8c24a514b6c1",
   "outputs": [],
   "execution_count": 12
  },
  {
   "metadata": {
    "ExecuteTime": {
     "end_time": "2025-03-22T08:02:04.072912Z",
     "start_time": "2025-03-22T08:02:04.059550Z"
    }
   },
   "cell_type": "code",
   "source": "meta.head()",
   "id": "f9e58b1cb943e515",
   "outputs": [
    {
     "data": {
      "text/plain": [
       "  primary_label secondary_labels  type              filename collection  \\\n",
       "0       1139490             ['']  ['']  1139490/CSA36385.ogg        CSA   \n",
       "1       1139490             ['']  ['']  1139490/CSA36389.ogg        CSA   \n",
       "2       1192948             ['']  ['']  1192948/CSA36358.ogg        CSA   \n",
       "3       1192948             ['']  ['']  1192948/CSA36366.ogg        CSA   \n",
       "4       1192948             ['']  ['']  1192948/CSA36373.ogg        CSA   \n",
       "\n",
       "   rating                                                url  latitude  \\\n",
       "0     0.0  http://colecciones.humboldt.org.co/rec/sonidos...    7.3206   \n",
       "1     0.0  http://colecciones.humboldt.org.co/rec/sonidos...    7.3206   \n",
       "2     0.0  http://colecciones.humboldt.org.co/rec/sonidos...    7.3791   \n",
       "3     0.0  http://colecciones.humboldt.org.co/rec/sonidos...    7.2800   \n",
       "4     0.0  http://colecciones.humboldt.org.co/rec/sonidos...    7.3791   \n",
       "\n",
       "   longitude        scientific_name            common_name             author  \\\n",
       "0   -73.7128   Ragoniella pulchella   Ragoniella pulchella  Fabio A. Sarria-S   \n",
       "1   -73.7128   Ragoniella pulchella   Ragoniella pulchella  Fabio A. Sarria-S   \n",
       "2   -73.7313  Oxyprora surinamensis  Oxyprora surinamensis  Fabio A. Sarria-S   \n",
       "3   -73.8582  Oxyprora surinamensis  Oxyprora surinamensis  Fabio A. Sarria-S   \n",
       "4   -73.7313  Oxyprora surinamensis  Oxyprora surinamensis  Fabio A. Sarria-S   \n",
       "\n",
       "           license  \n",
       "0  cc-by-nc-sa 4.0  \n",
       "1  cc-by-nc-sa 4.0  \n",
       "2  cc-by-nc-sa 4.0  \n",
       "3  cc-by-nc-sa 4.0  \n",
       "4  cc-by-nc-sa 4.0  "
      ],
      "text/html": [
       "<div>\n",
       "<style scoped>\n",
       "    .dataframe tbody tr th:only-of-type {\n",
       "        vertical-align: middle;\n",
       "    }\n",
       "\n",
       "    .dataframe tbody tr th {\n",
       "        vertical-align: top;\n",
       "    }\n",
       "\n",
       "    .dataframe thead th {\n",
       "        text-align: right;\n",
       "    }\n",
       "</style>\n",
       "<table border=\"1\" class=\"dataframe\">\n",
       "  <thead>\n",
       "    <tr style=\"text-align: right;\">\n",
       "      <th></th>\n",
       "      <th>primary_label</th>\n",
       "      <th>secondary_labels</th>\n",
       "      <th>type</th>\n",
       "      <th>filename</th>\n",
       "      <th>collection</th>\n",
       "      <th>rating</th>\n",
       "      <th>url</th>\n",
       "      <th>latitude</th>\n",
       "      <th>longitude</th>\n",
       "      <th>scientific_name</th>\n",
       "      <th>common_name</th>\n",
       "      <th>author</th>\n",
       "      <th>license</th>\n",
       "    </tr>\n",
       "  </thead>\n",
       "  <tbody>\n",
       "    <tr>\n",
       "      <th>0</th>\n",
       "      <td>1139490</td>\n",
       "      <td>['']</td>\n",
       "      <td>['']</td>\n",
       "      <td>1139490/CSA36385.ogg</td>\n",
       "      <td>CSA</td>\n",
       "      <td>0.0</td>\n",
       "      <td>http://colecciones.humboldt.org.co/rec/sonidos...</td>\n",
       "      <td>7.3206</td>\n",
       "      <td>-73.7128</td>\n",
       "      <td>Ragoniella pulchella</td>\n",
       "      <td>Ragoniella pulchella</td>\n",
       "      <td>Fabio A. Sarria-S</td>\n",
       "      <td>cc-by-nc-sa 4.0</td>\n",
       "    </tr>\n",
       "    <tr>\n",
       "      <th>1</th>\n",
       "      <td>1139490</td>\n",
       "      <td>['']</td>\n",
       "      <td>['']</td>\n",
       "      <td>1139490/CSA36389.ogg</td>\n",
       "      <td>CSA</td>\n",
       "      <td>0.0</td>\n",
       "      <td>http://colecciones.humboldt.org.co/rec/sonidos...</td>\n",
       "      <td>7.3206</td>\n",
       "      <td>-73.7128</td>\n",
       "      <td>Ragoniella pulchella</td>\n",
       "      <td>Ragoniella pulchella</td>\n",
       "      <td>Fabio A. Sarria-S</td>\n",
       "      <td>cc-by-nc-sa 4.0</td>\n",
       "    </tr>\n",
       "    <tr>\n",
       "      <th>2</th>\n",
       "      <td>1192948</td>\n",
       "      <td>['']</td>\n",
       "      <td>['']</td>\n",
       "      <td>1192948/CSA36358.ogg</td>\n",
       "      <td>CSA</td>\n",
       "      <td>0.0</td>\n",
       "      <td>http://colecciones.humboldt.org.co/rec/sonidos...</td>\n",
       "      <td>7.3791</td>\n",
       "      <td>-73.7313</td>\n",
       "      <td>Oxyprora surinamensis</td>\n",
       "      <td>Oxyprora surinamensis</td>\n",
       "      <td>Fabio A. Sarria-S</td>\n",
       "      <td>cc-by-nc-sa 4.0</td>\n",
       "    </tr>\n",
       "    <tr>\n",
       "      <th>3</th>\n",
       "      <td>1192948</td>\n",
       "      <td>['']</td>\n",
       "      <td>['']</td>\n",
       "      <td>1192948/CSA36366.ogg</td>\n",
       "      <td>CSA</td>\n",
       "      <td>0.0</td>\n",
       "      <td>http://colecciones.humboldt.org.co/rec/sonidos...</td>\n",
       "      <td>7.2800</td>\n",
       "      <td>-73.8582</td>\n",
       "      <td>Oxyprora surinamensis</td>\n",
       "      <td>Oxyprora surinamensis</td>\n",
       "      <td>Fabio A. Sarria-S</td>\n",
       "      <td>cc-by-nc-sa 4.0</td>\n",
       "    </tr>\n",
       "    <tr>\n",
       "      <th>4</th>\n",
       "      <td>1192948</td>\n",
       "      <td>['']</td>\n",
       "      <td>['']</td>\n",
       "      <td>1192948/CSA36373.ogg</td>\n",
       "      <td>CSA</td>\n",
       "      <td>0.0</td>\n",
       "      <td>http://colecciones.humboldt.org.co/rec/sonidos...</td>\n",
       "      <td>7.3791</td>\n",
       "      <td>-73.7313</td>\n",
       "      <td>Oxyprora surinamensis</td>\n",
       "      <td>Oxyprora surinamensis</td>\n",
       "      <td>Fabio A. Sarria-S</td>\n",
       "      <td>cc-by-nc-sa 4.0</td>\n",
       "    </tr>\n",
       "  </tbody>\n",
       "</table>\n",
       "</div>"
      ]
     },
     "execution_count": 13,
     "metadata": {},
     "output_type": "execute_result"
    }
   ],
   "execution_count": 13
  },
  {
   "metadata": {
    "ExecuteTime": {
     "end_time": "2025-03-22T08:02:04.467040Z",
     "start_time": "2025-03-22T08:02:04.460870Z"
    }
   },
   "cell_type": "code",
   "source": [
    "class_labels = meta.primary_label.unique()\n",
    "num_classes = len(class_labels)"
   ],
   "id": "aee3a91b97d1ea56",
   "outputs": [],
   "execution_count": 14
  },
  {
   "metadata": {},
   "cell_type": "markdown",
   "source": "## Utils",
   "id": "ea93b3d83b197d94"
  },
  {
   "metadata": {},
   "cell_type": "markdown",
   "source": "## Dataset",
   "id": "97df44090d5414ac"
  },
  {
   "metadata": {
    "ExecuteTime": {
     "end_time": "2025-03-22T08:02:09.247931Z",
     "start_time": "2025-03-22T08:02:09.240227Z"
    }
   },
   "cell_type": "code",
   "source": [
    "class BirdclefDataset(Dataset):\n",
    "    def __init__(self, df, class_labels, mode='train'):\n",
    "        self.df = df\n",
    "        self.class_labels = class_labels\n",
    "        self.mode = mode\n",
    "        self.config = config\n",
    "        self.input_path = Path(config['data']['processed_audio']) / 'v1'\n",
    "        self.min_segment = int(config['audio_preprocessing']['min_segment'])\n",
    "\n",
    "    @classmethod\n",
    "    def normalize_std(cls, spec, eps=1e-23):\n",
    "        mean = torch.mean(spec)\n",
    "        std = torch.std(spec)\n",
    "        return (spec - mean) / (std + eps)\n",
    "\n",
    "    def get_mel_spectrogram(self, audio_signal):\n",
    "        params = self.config['mel_spectrogram']\n",
    "        mel_spectrogram = at.MelSpectrogram(\n",
    "            sample_rate=int(self.config['audio_params']['sample_rate']),\n",
    "            n_fft=int(params['n_fft']),\n",
    "            win_length=int(params['win_length']),\n",
    "            hop_length=int(params['hop_length']),\n",
    "            n_mels=int(params['n_mels']),\n",
    "            f_min=float(params['f_min']),\n",
    "            f_max=float(params['f_max']),\n",
    "            mel_scale=params['mel_scale']\n",
    "        )\n",
    "        mel_spec = mel_spectrogram(audio_signal)\n",
    "        return torch.log(mel_spec)\n",
    "\n",
    "    def __getitem__(self, index):\n",
    "        filename = self.df.iloc[index].filename\n",
    "        sig, _ = torchaudio.load(self.input_path / filename, backend=self.config['audio_preprocessing']['backend'])\n",
    "        sig = sig / torch.max(torch.abs(sig))\n",
    "        sig = sig + 1.5849e-05 * (torch.rand(1, self.min_segment) - 0.5)\n",
    "\n",
    "        mel_spec = self.get_mel_spectrogram(sig)\n",
    "        mel_spec = self.normalize_std(mel_spec)\n",
    "\n",
    "        target = self.df.iloc[index].primary_label\n",
    "        y = np.array([1 if lbl == target else 0 for lbl in self.class_labels])\n",
    "\n",
    "        return mel_spec, torch.tensor(y, dtype=torch.float32)\n",
    "\n",
    "    def __len__(self):\n",
    "        return len(self.df)"
   ],
   "id": "c0a35b9a664a8ae6",
   "outputs": [],
   "execution_count": 15
  },
  {
   "metadata": {
    "ExecuteTime": {
     "end_time": "2025-03-22T08:02:09.607912Z",
     "start_time": "2025-03-22T08:02:09.603001Z"
    }
   },
   "cell_type": "code",
   "source": "",
   "id": "cb73cd89ab274a71",
   "outputs": [],
   "execution_count": null
  },
  {
   "metadata": {},
   "cell_type": "markdown",
   "source": "## Model",
   "id": "587559f2a3fc8cbd"
  },
  {
   "metadata": {
    "ExecuteTime": {
     "end_time": "2025-03-22T08:02:10.534161Z",
     "start_time": "2025-03-22T08:02:10.523943Z"
    }
   },
   "cell_type": "code",
   "source": [
    "class BirdclefModel(pl.LightningModule):\n",
    "    def __init__(self, class_labels):\n",
    "        super(BirdclefModel, self).__init__()\n",
    "        self.save_hyperparameters()\n",
    "        self.class_labels = class_labels\n",
    "        self.num_classes = len(self.class_labels)\n",
    "        self.model_backbone = config['model']['model_backbone']\n",
    "        self.model = self.get_model()\n",
    "        self.loss_fn = nn.BCEWithLogitsLoss()\n",
    "        self.hparams.learning_rate = float( config['training']['learning_rate'])\n",
    "\n",
    "        # For storing predictions and labels\n",
    "        self.pred_train = []\n",
    "        self.label_train = []\n",
    "        self.pred_val = []\n",
    "        self.label_val = []\n",
    "\n",
    "    def get_model(self):\n",
    "\n",
    "        model_obj = timm.create_model(config['model']['model_desc'], pretrained=True, num_classes=self.num_classes)\n",
    "        return model_obj\n",
    "\n",
    "    def forward(self, x):\n",
    "        x = torch.cat((x, x, x), 1)\n",
    "        return self.model(x)\n",
    "\n",
    "    def training_step(self, batch, batch_idx):\n",
    "        x, y = batch\n",
    "        preds = self(x)\n",
    "        loss = self.loss_fn(preds, y)\n",
    "\n",
    "        self.label_train.append(y.detach().cpu().numpy())\n",
    "        self.pred_train.append(torch.softmax(preds, dim=1).detach().cpu().numpy())\n",
    "\n",
    "        self.log(\"train_loss\", loss, on_epoch=True)\n",
    "        return loss\n",
    "\n",
    "    def validation_step(self, batch, batch_idx):\n",
    "        x, y = batch\n",
    "        preds = self(x)\n",
    "        loss = self.loss_fn(preds, y)\n",
    "\n",
    "        self.label_val.append(y.detach().cpu().numpy())\n",
    "        self.pred_val.append(torch.softmax(preds, dim=1).detach().cpu().numpy())\n",
    "\n",
    "        self.log(\"val_loss\", loss, on_epoch=True)\n",
    "        return loss\n",
    "\n",
    "    def on_train_epoch_end(self):\n",
    "        auc = self.cal_score(self.label_train, self.pred_train)\n",
    "        self.log(\"train_auc\", auc, on_epoch=True)\n",
    "        self.pred_train.clear()\n",
    "        self.label_train.clear()\n",
    "\n",
    "    def on_validation_epoch_end(self):\n",
    "        auc = self.cal_score(self.label_val, self.pred_val)\n",
    "        self.log(\"val_auc\", auc, on_epoch=True)\n",
    "        self.pred_val.clear()\n",
    "        self.label_val.clear()\n",
    "\n",
    "    def configure_optimizers(self):\n",
    "        optimizer = torch.optim.Adam(self.parameters(), lr=self.hparams.learning_rate)\n",
    "        scheduler = torch.optim.lr_scheduler.ReduceLROnPlateau(optimizer, mode='min', factor=0.5, patience=2)\n",
    "        return {\n",
    "            \"optimizer\": optimizer,\n",
    "            \"lr_scheduler\": {\n",
    "                \"scheduler\": scheduler,\n",
    "                \"monitor\": \"val_loss\"\n",
    "            }\n",
    "        }\n",
    "\n",
    "    def cal_score(self, label, pred):\n",
    "        label = np.concatenate(label)\n",
    "        pred = np.concatenate(pred)\n",
    "\n",
    "        label_df = pd.DataFrame(label>0.5, columns=self.class_labels)\n",
    "        pred_df = pd.DataFrame(pred, columns=self.class_labels)\n",
    "        label_df['id'] = np.arange(len(label_df))\n",
    "        pred_df['id'] = np.arange(len(pred_df))\n",
    "\n",
    "        return score(label_df, pred_df, row_id_column_name='id')"
   ],
   "id": "3351448eeb547fbb",
   "outputs": [],
   "execution_count": 16
  },
  {
   "metadata": {},
   "cell_type": "markdown",
   "source": "## Training",
   "id": "c2ab5d6e2837590a"
  },
  {
   "metadata": {
    "ExecuteTime": {
     "end_time": "2025-03-22T08:02:11.389903Z",
     "start_time": "2025-03-22T08:02:11.378518Z"
    }
   },
   "cell_type": "code",
   "source": [
    "train_df, val_df = train_test_split(meta, test_size=0.2, random_state=42)\n",
    "\n",
    "train_dataset = BirdclefDataset(train_df, mode='train', class_labels=class_labels)\n",
    "train_loader = DataLoader(train_dataset, batch_size=int(config['training']['batch_size']), shuffle=True, num_workers=int(config['training']['num_workers']),drop_last=True)\n",
    "\n",
    "val_dataset = BirdclefDataset(val_df, mode='val', class_labels=class_labels)\n",
    "val_loader = DataLoader(val_dataset, batch_size=int(config['training']['batch_size']), shuffle=False, num_workers=int(config['training']['num_workers']),drop_last=True)"
   ],
   "id": "9ac0dec566d62ca4",
   "outputs": [],
   "execution_count": 17
  },
  {
   "metadata": {
    "ExecuteTime": {
     "end_time": "2025-03-22T08:02:15.066503Z",
     "start_time": "2025-03-22T08:02:11.889873Z"
    }
   },
   "cell_type": "code",
   "source": "model = BirdclefModel(class_labels)",
   "id": "8721f559fd64f8be",
   "outputs": [
    {
     "data": {
      "text/plain": [
       "model.safetensors:   0%|          | 0.00/31.5M [00:00<?, ?B/s]"
      ],
      "application/vnd.jupyter.widget-view+json": {
       "version_major": 2,
       "version_minor": 0,
       "model_id": "5c8d1e7fadae46d7833b6364a1a76ae0"
      }
     },
     "metadata": {},
     "output_type": "display_data"
    }
   ],
   "execution_count": 18
  },
  {
   "metadata": {
    "ExecuteTime": {
     "end_time": "2025-03-22T08:02:15.637811Z",
     "start_time": "2025-03-22T08:02:15.624569Z"
    }
   },
   "cell_type": "code",
   "source": [
    "checkpoint_callback = ModelCheckpoint(\n",
    "    dirpath=config['model']['model_path'] + '/'+ config['model']['model_desc'] + '-' + config['model']['model_ver'],\n",
    "    filename='{epoch:02d}-{val_loss:.2f}',\n",
    "    save_top_k=1,\n",
    "    monitor='val_loss',\n",
    "    mode='min'\n",
    ")\n",
    "\n",
    "early_stopping = EarlyStopping(monitor=\"val_loss\", patience=3, mode=\"min\")"
   ],
   "id": "29845e640f0b50a",
   "outputs": [],
   "execution_count": 19
  },
  {
   "metadata": {
    "ExecuteTime": {
     "end_time": "2025-03-22T08:02:16.735296Z",
     "start_time": "2025-03-22T08:02:16.727256Z"
    }
   },
   "cell_type": "code",
   "source": "logger = WandbLogger(log_model='all')",
   "id": "ea76ea60e4f51f12",
   "outputs": [],
   "execution_count": 20
  },
  {
   "metadata": {
    "ExecuteTime": {
     "end_time": "2025-03-22T08:02:24.406875Z",
     "start_time": "2025-03-22T08:02:24.334115Z"
    }
   },
   "cell_type": "code",
   "source": [
    "trainer = pl.Trainer(\n",
    "    max_epochs=int(config['training']['epochs']),\n",
    "    devices=1,\n",
    "    accelerator='gpu' if torch.cuda.is_available() else 'cpu',\n",
    "    logger=logger,\n",
    "    callbacks=[checkpoint_callback, early_stopping]\n",
    ")"
   ],
   "id": "629bdd764ebbfe96",
   "outputs": [
    {
     "name": "stderr",
     "output_type": "stream",
     "text": [
      "GPU available: True (cuda), used: True\n",
      "TPU available: False, using: 0 TPU cores\n",
      "HPU available: False, using: 0 HPUs\n"
     ]
    }
   ],
   "execution_count": 21
  },
  {
   "metadata": {
    "ExecuteTime": {
     "end_time": "2025-03-22T08:21:36.019631Z",
     "start_time": "2025-03-22T08:02:25.318605Z"
    }
   },
   "cell_type": "code",
   "source": "trainer.fit(model, train_loader, val_loader)",
   "id": "8b81c7479609759",
   "outputs": [
    {
     "name": "stderr",
     "output_type": "stream",
     "text": [
      "You are using a CUDA device ('NVIDIA GeForce RTX 3070 Laptop GPU') that has Tensor Cores. To properly utilize them, you should set `torch.set_float32_matmul_precision('medium' | 'high')` which will trade-off precision for performance. For more details, read https://pytorch.org/docs/stable/generated/torch.set_float32_matmul_precision.html#torch.set_float32_matmul_precision\n",
      "LOCAL_RANK: 0 - CUDA_VISIBLE_DEVICES: [0]\n",
      "\n",
      "  | Name    | Type              | Params | Mode \n",
      "------------------------------------------------------\n",
      "0 | model   | EfficientNet      | 6.8 M  | train\n",
      "1 | loss_fn | BCEWithLogitsLoss | 0      | train\n",
      "------------------------------------------------------\n",
      "6.8 M     Trainable params\n",
      "0         Non-trainable params\n",
      "6.8 M     Total params\n",
      "27.108    Total estimated model params size (MB)\n",
      "474       Modules in train mode\n",
      "0         Modules in eval mode\n"
     ]
    },
    {
     "data": {
      "text/plain": [
       "Sanity Checking: |          | 0/? [00:00<?, ?it/s]"
      ],
      "application/vnd.jupyter.widget-view+json": {
       "version_major": 2,
       "version_minor": 0,
       "model_id": "8ffdecaeb57e4d63bfb10080821b6329"
      }
     },
     "metadata": {},
     "output_type": "display_data"
    },
    {
     "data": {
      "text/plain": [
       "Training: |          | 0/? [00:00<?, ?it/s]"
      ],
      "application/vnd.jupyter.widget-view+json": {
       "version_major": 2,
       "version_minor": 0,
       "model_id": "586bb81ec5c74718853fe412471ae73b"
      }
     },
     "metadata": {},
     "output_type": "display_data"
    },
    {
     "data": {
      "text/plain": [
       "Validation: |          | 0/? [00:00<?, ?it/s]"
      ],
      "application/vnd.jupyter.widget-view+json": {
       "version_major": 2,
       "version_minor": 0,
       "model_id": "6b74c726fc6343dc9fddbe8dc3bdc7b9"
      }
     },
     "metadata": {},
     "output_type": "display_data"
    },
    {
     "data": {
      "text/plain": [
       "Validation: |          | 0/? [00:00<?, ?it/s]"
      ],
      "application/vnd.jupyter.widget-view+json": {
       "version_major": 2,
       "version_minor": 0,
       "model_id": "abfba10e021b454a82d4a3c1c27c8cd3"
      }
     },
     "metadata": {},
     "output_type": "display_data"
    },
    {
     "data": {
      "text/plain": [
       "Validation: |          | 0/? [00:00<?, ?it/s]"
      ],
      "application/vnd.jupyter.widget-view+json": {
       "version_major": 2,
       "version_minor": 0,
       "model_id": "b55e16efd9564e6c84dc6b42d17fdec5"
      }
     },
     "metadata": {},
     "output_type": "display_data"
    },
    {
     "data": {
      "text/plain": [
       "Validation: |          | 0/? [00:00<?, ?it/s]"
      ],
      "application/vnd.jupyter.widget-view+json": {
       "version_major": 2,
       "version_minor": 0,
       "model_id": "a95dcf29a3cd464ab5d285d57da09802"
      }
     },
     "metadata": {},
     "output_type": "display_data"
    },
    {
     "data": {
      "text/plain": [
       "Validation: |          | 0/? [00:00<?, ?it/s]"
      ],
      "application/vnd.jupyter.widget-view+json": {
       "version_major": 2,
       "version_minor": 0,
       "model_id": "2cac9586273f44c785ede198916f0c4e"
      }
     },
     "metadata": {},
     "output_type": "display_data"
    },
    {
     "data": {
      "text/plain": [
       "Validation: |          | 0/? [00:00<?, ?it/s]"
      ],
      "application/vnd.jupyter.widget-view+json": {
       "version_major": 2,
       "version_minor": 0,
       "model_id": "6eac6ed5b69b432095f9813976c9c10c"
      }
     },
     "metadata": {},
     "output_type": "display_data"
    },
    {
     "data": {
      "text/plain": [
       "Validation: |          | 0/? [00:00<?, ?it/s]"
      ],
      "application/vnd.jupyter.widget-view+json": {
       "version_major": 2,
       "version_minor": 0,
       "model_id": "c778312458684f508cfa9470ab3a33fb"
      }
     },
     "metadata": {},
     "output_type": "display_data"
    },
    {
     "data": {
      "text/plain": [
       "Validation: |          | 0/? [00:00<?, ?it/s]"
      ],
      "application/vnd.jupyter.widget-view+json": {
       "version_major": 2,
       "version_minor": 0,
       "model_id": "75fcd023d7484fc0b28b0d00282fcaeb"
      }
     },
     "metadata": {},
     "output_type": "display_data"
    },
    {
     "name": "stderr",
     "output_type": "stream",
     "text": [
      "`Trainer.fit` stopped: `max_epochs=8` reached.\n"
     ]
    }
   ],
   "execution_count": 22
  },
  {
   "metadata": {
    "ExecuteTime": {
     "end_time": "2025-03-22T08:27:24.383467Z",
     "start_time": "2025-03-22T08:27:24.378524Z"
    }
   },
   "cell_type": "code",
   "source": "",
   "id": "99eb891dbe7e3794",
   "outputs": [],
   "execution_count": 27
  },
  {
   "metadata": {
    "jupyter": {
     "is_executing": true
    },
    "ExecuteTime": {
     "start_time": "2025-03-22T08:28:16.138226Z"
    }
   },
   "cell_type": "code",
   "source": "",
   "id": "e3d7537124798fbb",
   "outputs": [
    {
     "name": "stderr",
     "output_type": "stream",
     "text": [
      "Restoring states from the checkpoint path at /mnt/d/Projects_D/BirdCLEF_2025//models/efficientnet_b1-v1/epoch=07-val_loss=0.01.ckpt\n",
      "LOCAL_RANK: 0 - CUDA_VISIBLE_DEVICES: [0]\n",
      "\n",
      "  | Name    | Type              | Params | Mode \n",
      "------------------------------------------------------\n",
      "0 | model   | EfficientNet      | 6.8 M  | train\n",
      "1 | loss_fn | BCEWithLogitsLoss | 0      | train\n",
      "------------------------------------------------------\n",
      "6.8 M     Trainable params\n",
      "0         Non-trainable params\n",
      "6.8 M     Total params\n",
      "27.108    Total estimated model params size (MB)\n",
      "474       Modules in train mode\n",
      "0         Modules in eval mode\n",
      "Restored all states from the checkpoint at /mnt/d/Projects_D/BirdCLEF_2025//models/efficientnet_b1-v1/epoch=07-val_loss=0.01.ckpt\n"
     ]
    },
    {
     "data": {
      "text/plain": [
       "Sanity Checking: |          | 0/? [00:00<?, ?it/s]"
      ],
      "application/vnd.jupyter.widget-view+json": {
       "version_major": 2,
       "version_minor": 0,
       "model_id": "08614c3b6f0944cbb1d84c59947ee672"
      }
     },
     "metadata": {},
     "output_type": "display_data"
    },
    {
     "data": {
      "text/plain": [
       "Training: |          | 0/? [00:00<?, ?it/s]"
      ],
      "application/vnd.jupyter.widget-view+json": {
       "version_major": 2,
       "version_minor": 0,
       "model_id": "c82abc4660534036a8732d3de5030f4d"
      }
     },
     "metadata": {},
     "output_type": "display_data"
    },
    {
     "data": {
      "text/plain": [
       "Validation: |          | 0/? [00:00<?, ?it/s]"
      ],
      "application/vnd.jupyter.widget-view+json": {
       "version_major": 2,
       "version_minor": 0,
       "model_id": "16185640133847c0beac5c8e2fd597ed"
      }
     },
     "metadata": {},
     "output_type": "display_data"
    },
    {
     "data": {
      "text/plain": [
       "Validation: |          | 0/? [00:00<?, ?it/s]"
      ],
      "application/vnd.jupyter.widget-view+json": {
       "version_major": 2,
       "version_minor": 0,
       "model_id": "3a87d664ba0f4218bcf5ff3510d5e689"
      }
     },
     "metadata": {},
     "output_type": "display_data"
    }
   ],
   "execution_count": null
  },
  {
   "metadata": {
    "ExecuteTime": {
     "end_time": "2025-03-22T07:22:06.626293Z",
     "start_time": "2025-03-22T07:22:06.621645Z"
    }
   },
   "cell_type": "code",
   "source": [
    "def extract_metrics(metrics):\n",
    "    metrics = {k:v.item() for k, v in metrics.items()}\n",
    "    return metrics"
   ],
   "id": "242c2fa6d780cbd3",
   "outputs": [],
   "execution_count": 16
  },
  {
   "metadata": {
    "ExecuteTime": {
     "end_time": "2025-03-22T07:22:07.027847Z",
     "start_time": "2025-03-22T07:22:07.023287Z"
    }
   },
   "cell_type": "code",
   "source": "metrics = extract_metrics(trainer.callback_metrics)",
   "id": "d16d30ee127d595d",
   "outputs": [],
   "execution_count": 17
  },
  {
   "metadata": {
    "ExecuteTime": {
     "end_time": "2025-03-22T07:22:42.531470Z",
     "start_time": "2025-03-22T07:22:42.525590Z"
    }
   },
   "cell_type": "code",
   "source": [
    "for k, v in metrics.items():\n",
    "    print(k + \":\", v)"
   ],
   "id": "954b385f7c589845",
   "outputs": [
    {
     "name": "stdout",
     "output_type": "stream",
     "text": [
      "train_loss: 0.004555719438940287\n",
      "train_loss_step: 0.0027519643772393465\n",
      "val_loss: 0.011869397945702076\n",
      "val_auc: 0.9654795527458191\n",
      "train_loss_epoch: 0.004555719438940287\n",
      "train_auc: 0.9978811144828796\n"
     ]
    }
   ],
   "execution_count": 22
  },
  {
   "metadata": {
    "ExecuteTime": {
     "end_time": "2025-03-22T07:23:27.647632Z",
     "start_time": "2025-03-22T07:23:25.492300Z"
    }
   },
   "cell_type": "code",
   "source": "wandb.finish()",
   "id": "d04ebea473961276",
   "outputs": [
    {
     "data": {
      "text/plain": [
       "<IPython.core.display.HTML object>"
      ],
      "text/html": []
     },
     "metadata": {},
     "output_type": "display_data"
    },
    {
     "data": {
      "text/plain": [
       "<IPython.core.display.HTML object>"
      ],
      "text/html": [
       "<br>    <style><br>        .wandb-row {<br>            display: flex;<br>            flex-direction: row;<br>            flex-wrap: wrap;<br>            justify-content: flex-start;<br>            width: 100%;<br>        }<br>        .wandb-col {<br>            display: flex;<br>            flex-direction: column;<br>            flex-basis: 100%;<br>            flex: 1;<br>            padding: 10px;<br>        }<br>    </style><br><div class=\"wandb-row\"><div class=\"wandb-col\"><h3>Run history:</h3><br/><table class=\"wandb\"><tr><td>epoch</td><td>▁▁▁▁▁▂▂▂▂▂▃▃▃▃▃▄▄▄▄▄▅▅▅▅▆▆▆▆▇▇▇▇▇▇▇█████</td></tr><tr><td>train_auc</td><td>▁▆▇▇████</td></tr><tr><td>train_loss_epoch</td><td>█▄▃▃▂▂▁▁</td></tr><tr><td>train_loss_step</td><td>█▇▅▅▄▄▅▄▄▃▄▂▃▃▄▃▃▄▃▂▃▃▄▂▂▂▂▂▁▂▂▂▂▁▁▂▁▁▁▂</td></tr><tr><td>trainer/global_step</td><td>▁▁▁▂▂▂▂▂▃▃▃▃▃▄▄▄▄▄▄▄▅▅▅▅▅▆▆▆▆▆▆▇▇▇▇▇████</td></tr><tr><td>val_auc</td><td>▁▆▆▇▇███</td></tr><tr><td>val_loss</td><td>█▄▃▂▁▁▂▂</td></tr></table><br/></div><div class=\"wandb-col\"><h3>Run summary:</h3><br/><table class=\"wandb\"><tr><td>epoch</td><td>7</td></tr><tr><td>train_auc</td><td>0.99788</td></tr><tr><td>train_loss_epoch</td><td>0.00456</td></tr><tr><td>train_loss_step</td><td>0.00511</td></tr><tr><td>trainer/global_step</td><td>4567</td></tr><tr><td>val_auc</td><td>0.96548</td></tr><tr><td>val_loss</td><td>0.01187</td></tr></table><br/></div></div>"
      ]
     },
     "metadata": {},
     "output_type": "display_data"
    },
    {
     "data": {
      "text/plain": [
       "<IPython.core.display.HTML object>"
      ],
      "text/html": [
       " View run <strong style=\"color:#cdcd00\">efficientnet_b0-v1</strong> at: <a href='https://wandb.ai/siddhant-ai/birdclef_2025/runs/5406sc1m' target=\"_blank\">https://wandb.ai/siddhant-ai/birdclef_2025/runs/5406sc1m</a><br> View project at: <a href='https://wandb.ai/siddhant-ai/birdclef_2025' target=\"_blank\">https://wandb.ai/siddhant-ai/birdclef_2025</a><br>Synced 5 W&B file(s), 0 media file(s), 12 artifact file(s) and 0 other file(s)"
      ]
     },
     "metadata": {},
     "output_type": "display_data"
    },
    {
     "data": {
      "text/plain": [
       "<IPython.core.display.HTML object>"
      ],
      "text/html": [
       "Find logs at: <code>./wandb/run-20250322_070154-5406sc1m/logs</code>"
      ]
     },
     "metadata": {},
     "output_type": "display_data"
    }
   ],
   "execution_count": 23
  },
  {
   "metadata": {},
   "cell_type": "code",
   "outputs": [],
   "execution_count": null,
   "source": "",
   "id": "8f74f8ffe2394b93"
  }
 ],
 "metadata": {
  "kernelspec": {
   "display_name": "Python 3",
   "language": "python",
   "name": "python3"
  },
  "language_info": {
   "codemirror_mode": {
    "name": "ipython",
    "version": 2
   },
   "file_extension": ".py",
   "mimetype": "text/x-python",
   "name": "python",
   "nbconvert_exporter": "python",
   "pygments_lexer": "ipython2",
   "version": "2.7.6"
  }
 },
 "nbformat": 4,
 "nbformat_minor": 5
}
