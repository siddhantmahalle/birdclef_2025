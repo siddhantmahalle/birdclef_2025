{
 "cells": [
  {
   "metadata": {},
   "cell_type": "markdown",
   "source": "# BirdClef+ 2025 Data Preprocessing V1",
   "id": "d2f0315c55f48c92"
  },
  {
   "metadata": {},
   "cell_type": "markdown",
   "source": "## Import libraries",
   "id": "511e79f1f38b0933"
  },
  {
   "metadata": {
    "collapsed": true,
    "ExecuteTime": {
     "end_time": "2025-03-19T17:10:36.919558Z",
     "start_time": "2025-03-19T17:10:35.355802Z"
    }
   },
   "cell_type": "code",
   "source": [
    "import configparser\n",
    "import os\n",
    "import warnings\n",
    "from pathlib import Path\n",
    "\n",
    "import pandas as pd\n",
    "import torch\n",
    "import torchaudio\n",
    "\n",
    "warnings.filterwarnings('ignore')"
   ],
   "id": "84d3c3177d35c0e5",
   "outputs": [],
   "execution_count": 19
  },
  {
   "metadata": {},
   "cell_type": "markdown",
   "source": "## Config",
   "id": "1dc11c9d4f09ebff"
  },
  {
   "metadata": {
    "ExecuteTime": {
     "end_time": "2025-03-19T17:10:39.231582Z",
     "start_time": "2025-03-19T17:10:39.227686Z"
    }
   },
   "cell_type": "code",
   "source": "config = configparser.ConfigParser()",
   "id": "99152aacdc1f6d47",
   "outputs": [],
   "execution_count": 20
  },
  {
   "metadata": {
    "ExecuteTime": {
     "end_time": "2025-03-19T17:13:29.762927Z",
     "start_time": "2025-03-19T17:13:29.759115Z"
    }
   },
   "cell_type": "code",
   "source": [
    "config['project'] = {\n",
    "    'name': 'birdclef_2025',\n",
    "    'project_path': str(Path(os.getcwd()).parent)\n",
    "}\n",
    "\n",
    "config['data'] = {\n",
    "    'data_path': config['project']['project_path'] + '/data',\n",
    "    'birdclef_2025': config['project']['project_path'] + '/data/birdclef_2025',\n",
    "    'processed_audio':config['project']['project_path'] + '/data/audio_processed'\n",
    "}\n",
    "\n",
    "config['audio_params'] = {\n",
    "    'wav_sec': 5,\n",
    "    'sample_rate': 32000,\n",
    "}\n",
    "\n",
    "config['audio_preprocessing'] = {\n",
    "    'min_segment': 32000 * 5,\n",
    "    'backend': 'soundfile'\n",
    "}"
   ],
   "id": "5aae7972b766f173",
   "outputs": [],
   "execution_count": 33
  },
  {
   "metadata": {},
   "cell_type": "markdown",
   "source": "## Load data",
   "id": "e0d4640ec20ebe4a"
  },
  {
   "metadata": {
    "ExecuteTime": {
     "end_time": "2025-03-19T17:13:30.165699Z",
     "start_time": "2025-03-19T17:13:30.082949Z"
    }
   },
   "cell_type": "code",
   "source": [
    "meta = pd.read_csv(config['data']['birdclef_2025'] + '/train.csv')\n",
    "taxonomy = pd.read_csv(config['data']['birdclef_2025'] + '/taxonomy.csv')"
   ],
   "id": "1356d6568d2b83c4",
   "outputs": [],
   "execution_count": 34
  },
  {
   "metadata": {
    "ExecuteTime": {
     "end_time": "2025-03-19T17:13:30.265627Z",
     "start_time": "2025-03-19T17:13:30.256952Z"
    }
   },
   "cell_type": "code",
   "source": "meta.head()",
   "id": "a6d1426078d63fa2",
   "outputs": [
    {
     "data": {
      "text/plain": [
       "  primary_label secondary_labels  type              filename collection  \\\n",
       "0       1139490             ['']  ['']  1139490/CSA36385.ogg        CSA   \n",
       "1       1139490             ['']  ['']  1139490/CSA36389.ogg        CSA   \n",
       "2       1192948             ['']  ['']  1192948/CSA36358.ogg        CSA   \n",
       "3       1192948             ['']  ['']  1192948/CSA36366.ogg        CSA   \n",
       "4       1192948             ['']  ['']  1192948/CSA36373.ogg        CSA   \n",
       "\n",
       "   rating                                                url  latitude  \\\n",
       "0     0.0  http://colecciones.humboldt.org.co/rec/sonidos...    7.3206   \n",
       "1     0.0  http://colecciones.humboldt.org.co/rec/sonidos...    7.3206   \n",
       "2     0.0  http://colecciones.humboldt.org.co/rec/sonidos...    7.3791   \n",
       "3     0.0  http://colecciones.humboldt.org.co/rec/sonidos...    7.2800   \n",
       "4     0.0  http://colecciones.humboldt.org.co/rec/sonidos...    7.3791   \n",
       "\n",
       "   longitude        scientific_name            common_name             author  \\\n",
       "0   -73.7128   Ragoniella pulchella   Ragoniella pulchella  Fabio A. Sarria-S   \n",
       "1   -73.7128   Ragoniella pulchella   Ragoniella pulchella  Fabio A. Sarria-S   \n",
       "2   -73.7313  Oxyprora surinamensis  Oxyprora surinamensis  Fabio A. Sarria-S   \n",
       "3   -73.8582  Oxyprora surinamensis  Oxyprora surinamensis  Fabio A. Sarria-S   \n",
       "4   -73.7313  Oxyprora surinamensis  Oxyprora surinamensis  Fabio A. Sarria-S   \n",
       "\n",
       "           license  \n",
       "0  cc-by-nc-sa 4.0  \n",
       "1  cc-by-nc-sa 4.0  \n",
       "2  cc-by-nc-sa 4.0  \n",
       "3  cc-by-nc-sa 4.0  \n",
       "4  cc-by-nc-sa 4.0  "
      ],
      "text/html": [
       "<div>\n",
       "<style scoped>\n",
       "    .dataframe tbody tr th:only-of-type {\n",
       "        vertical-align: middle;\n",
       "    }\n",
       "\n",
       "    .dataframe tbody tr th {\n",
       "        vertical-align: top;\n",
       "    }\n",
       "\n",
       "    .dataframe thead th {\n",
       "        text-align: right;\n",
       "    }\n",
       "</style>\n",
       "<table border=\"1\" class=\"dataframe\">\n",
       "  <thead>\n",
       "    <tr style=\"text-align: right;\">\n",
       "      <th></th>\n",
       "      <th>primary_label</th>\n",
       "      <th>secondary_labels</th>\n",
       "      <th>type</th>\n",
       "      <th>filename</th>\n",
       "      <th>collection</th>\n",
       "      <th>rating</th>\n",
       "      <th>url</th>\n",
       "      <th>latitude</th>\n",
       "      <th>longitude</th>\n",
       "      <th>scientific_name</th>\n",
       "      <th>common_name</th>\n",
       "      <th>author</th>\n",
       "      <th>license</th>\n",
       "    </tr>\n",
       "  </thead>\n",
       "  <tbody>\n",
       "    <tr>\n",
       "      <th>0</th>\n",
       "      <td>1139490</td>\n",
       "      <td>['']</td>\n",
       "      <td>['']</td>\n",
       "      <td>1139490/CSA36385.ogg</td>\n",
       "      <td>CSA</td>\n",
       "      <td>0.0</td>\n",
       "      <td>http://colecciones.humboldt.org.co/rec/sonidos...</td>\n",
       "      <td>7.3206</td>\n",
       "      <td>-73.7128</td>\n",
       "      <td>Ragoniella pulchella</td>\n",
       "      <td>Ragoniella pulchella</td>\n",
       "      <td>Fabio A. Sarria-S</td>\n",
       "      <td>cc-by-nc-sa 4.0</td>\n",
       "    </tr>\n",
       "    <tr>\n",
       "      <th>1</th>\n",
       "      <td>1139490</td>\n",
       "      <td>['']</td>\n",
       "      <td>['']</td>\n",
       "      <td>1139490/CSA36389.ogg</td>\n",
       "      <td>CSA</td>\n",
       "      <td>0.0</td>\n",
       "      <td>http://colecciones.humboldt.org.co/rec/sonidos...</td>\n",
       "      <td>7.3206</td>\n",
       "      <td>-73.7128</td>\n",
       "      <td>Ragoniella pulchella</td>\n",
       "      <td>Ragoniella pulchella</td>\n",
       "      <td>Fabio A. Sarria-S</td>\n",
       "      <td>cc-by-nc-sa 4.0</td>\n",
       "    </tr>\n",
       "    <tr>\n",
       "      <th>2</th>\n",
       "      <td>1192948</td>\n",
       "      <td>['']</td>\n",
       "      <td>['']</td>\n",
       "      <td>1192948/CSA36358.ogg</td>\n",
       "      <td>CSA</td>\n",
       "      <td>0.0</td>\n",
       "      <td>http://colecciones.humboldt.org.co/rec/sonidos...</td>\n",
       "      <td>7.3791</td>\n",
       "      <td>-73.7313</td>\n",
       "      <td>Oxyprora surinamensis</td>\n",
       "      <td>Oxyprora surinamensis</td>\n",
       "      <td>Fabio A. Sarria-S</td>\n",
       "      <td>cc-by-nc-sa 4.0</td>\n",
       "    </tr>\n",
       "    <tr>\n",
       "      <th>3</th>\n",
       "      <td>1192948</td>\n",
       "      <td>['']</td>\n",
       "      <td>['']</td>\n",
       "      <td>1192948/CSA36366.ogg</td>\n",
       "      <td>CSA</td>\n",
       "      <td>0.0</td>\n",
       "      <td>http://colecciones.humboldt.org.co/rec/sonidos...</td>\n",
       "      <td>7.2800</td>\n",
       "      <td>-73.8582</td>\n",
       "      <td>Oxyprora surinamensis</td>\n",
       "      <td>Oxyprora surinamensis</td>\n",
       "      <td>Fabio A. Sarria-S</td>\n",
       "      <td>cc-by-nc-sa 4.0</td>\n",
       "    </tr>\n",
       "    <tr>\n",
       "      <th>4</th>\n",
       "      <td>1192948</td>\n",
       "      <td>['']</td>\n",
       "      <td>['']</td>\n",
       "      <td>1192948/CSA36373.ogg</td>\n",
       "      <td>CSA</td>\n",
       "      <td>0.0</td>\n",
       "      <td>http://colecciones.humboldt.org.co/rec/sonidos...</td>\n",
       "      <td>7.3791</td>\n",
       "      <td>-73.7313</td>\n",
       "      <td>Oxyprora surinamensis</td>\n",
       "      <td>Oxyprora surinamensis</td>\n",
       "      <td>Fabio A. Sarria-S</td>\n",
       "      <td>cc-by-nc-sa 4.0</td>\n",
       "    </tr>\n",
       "  </tbody>\n",
       "</table>\n",
       "</div>"
      ]
     },
     "execution_count": 35,
     "metadata": {},
     "output_type": "execute_result"
    }
   ],
   "execution_count": 35
  },
  {
   "metadata": {},
   "cell_type": "markdown",
   "source": "## Data Preprocessing",
   "id": "7950707035bbef25"
  },
  {
   "metadata": {
    "ExecuteTime": {
     "end_time": "2025-03-19T17:13:30.498423Z",
     "start_time": "2025-03-19T17:13:30.494978Z"
    }
   },
   "cell_type": "code",
   "source": [
    "train_audio_path = config['data']['birdclef_2025'] + '/train_audio'\n",
    "audio_processed_path = config['data']['processed_audio'] + '/v1'"
   ],
   "id": "c2c7523be6d5ff62",
   "outputs": [],
   "execution_count": 36
  },
  {
   "metadata": {
    "ExecuteTime": {
     "end_time": "2025-03-19T17:13:31.229631Z",
     "start_time": "2025-03-19T17:13:31.222367Z"
    }
   },
   "cell_type": "code",
   "source": "os.makedirs(audio_processed_path, exist_ok=True)",
   "id": "617ff970b3bcbe10",
   "outputs": [],
   "execution_count": 37
  },
  {
   "metadata": {
    "ExecuteTime": {
     "end_time": "2025-03-19T17:16:35.610822Z",
     "start_time": "2025-03-19T17:16:35.605494Z"
    }
   },
   "cell_type": "code",
   "source": [
    "def crop_and_save(index):\n",
    "    sig, _ = torchaudio.load(train_audio_path + '/' + meta.iloc[index].filename, backend=config['audio_preprocessing']['backend'])\n",
    "\n",
    "    if sig.shape[1]<=int(config['audio_preprocessing']['min_segment']):\n",
    "        sig = torch.concat([sig, torch.zeros(1,int(config['audio_preprocessing']['min_segment'])-sig.shape[1])], dim=1)\n",
    "\n",
    "    dir_path = audio_processed_path + '/' + meta.iloc[index].filename.split('/')[0] + '/'\n",
    "    if not os.path.exists(dir_path):\n",
    "        os.mkdir(dir_path)\n",
    "\n",
    "    output_name = audio_processed_path + '/' + meta.iloc[index].filename\n",
    "    torchaudio.save(uri=output_name, src=sig[:,:int(config['audio_preprocessing']['min_segment'])], sample_rate=int(config['audio_params']['sample_rate']), backend=config['audio_preprocessing']['backend'])"
   ],
   "id": "e67fe25ebf49de96",
   "outputs": [],
   "execution_count": 46
  },
  {
   "metadata": {
    "ExecuteTime": {
     "end_time": "2025-03-19T18:04:15.742927Z",
     "start_time": "2025-03-19T17:16:37.657566Z"
    }
   },
   "cell_type": "code",
   "source": [
    "for index in range(len(meta)):\n",
    "    crop_and_save(index)"
   ],
   "id": "841a2b5311e7cdca",
   "outputs": [],
   "execution_count": 47
  },
  {
   "metadata": {},
   "cell_type": "code",
   "outputs": [],
   "execution_count": null,
   "source": "",
   "id": "58c774e2f72ee61b"
  }
 ],
 "metadata": {
  "kernelspec": {
   "display_name": "Python 3",
   "language": "python",
   "name": "python3"
  },
  "language_info": {
   "codemirror_mode": {
    "name": "ipython",
    "version": 2
   },
   "file_extension": ".py",
   "mimetype": "text/x-python",
   "name": "python",
   "nbconvert_exporter": "python",
   "pygments_lexer": "ipython2",
   "version": "2.7.6"
  }
 },
 "nbformat": 4,
 "nbformat_minor": 5
}
